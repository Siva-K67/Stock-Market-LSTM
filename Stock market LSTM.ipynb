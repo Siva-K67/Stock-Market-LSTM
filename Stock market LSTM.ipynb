{
 "cells": [
  {
   "cell_type": "markdown",
   "id": "fd751a53-4280-423a-a256-e2df95c24e36",
   "metadata": {},
   "source": [
    "Collecting the data"
   ]
  },
  {
   "cell_type": "code",
   "execution_count": 2,
   "id": "12f44f29-a965-4679-b3f8-5f52375a271e",
   "metadata": {},
   "outputs": [
    {
     "name": "stderr",
     "output_type": "stream",
     "text": [
      "[*********************100%***********************]  1 of 1 completed"
     ]
    },
    {
     "name": "stdout",
     "output_type": "stream",
     "text": [
      "Data successfully saved to AAPL_2020_2024.csv\n",
      "Price                      Adj Close      Close       High        Low  \\\n",
      "Ticker                          AAPL       AAPL       AAPL       AAPL   \n",
      "Date                                                                    \n",
      "2020-01-02 00:00:00+00:00  72.796028  75.087502  75.150002  73.797501   \n",
      "2020-01-03 00:00:00+00:00  72.088280  74.357498  75.144997  74.125000   \n",
      "2020-01-06 00:00:00+00:00  72.662712  74.949997  74.989998  73.187500   \n",
      "2020-01-07 00:00:00+00:00  72.320984  74.597504  75.224998  74.370003   \n",
      "2020-01-08 00:00:00+00:00  73.484344  75.797501  76.110001  74.290001   \n",
      "\n",
      "Price                           Open     Volume  \n",
      "Ticker                          AAPL       AAPL  \n",
      "Date                                             \n",
      "2020-01-02 00:00:00+00:00  74.059998  135480400  \n",
      "2020-01-03 00:00:00+00:00  74.287498  146322800  \n",
      "2020-01-06 00:00:00+00:00  73.447502  118387200  \n",
      "2020-01-07 00:00:00+00:00  74.959999  108872000  \n",
      "2020-01-08 00:00:00+00:00  74.290001  132079200  \n"
     ]
    },
    {
     "name": "stderr",
     "output_type": "stream",
     "text": [
      "\n"
     ]
    }
   ],
   "source": [
    "import yfinance as yf\n",
    "import pandas as pd\n",
    "\n",
    "# Define the ticker symbol\n",
    "ticker_symbol = 'AAPL'\n",
    "\n",
    "# taking the start date as from year 2020 and end date till now\n",
    "start_date = '2020-01-01'\n",
    "end_date = '2024-04-26'  # Adjust the end date as needed\n",
    "\n",
    "# Download the historical data using yahoo finance library\n",
    "aapl_data = yf.download(ticker_symbol, start=start_date, end=end_date)\n",
    "\n",
    "# Checking if data was downloaded successfully\n",
    "if aapl_data.empty:\n",
    "    print(\"No data found for the specified date range.\")\n",
    "else:\n",
    "    # Save to CSV\n",
    "    csv_filename = 'AAPL_2020_2024.csv'\n",
    "    aapl_data.to_csv(csv_filename)\n",
    "    print(f\"Data successfully saved to {csv_filename}\")\n",
    "\n",
    "    # Optionally, display the first few rows\n",
    "    print(aapl_data.head())\n"
   ]
  },
  {
   "cell_type": "code",
   "execution_count": 3,
   "id": "eb0f9b09-0c49-4812-8989-95d3e0c81bc8",
   "metadata": {},
   "outputs": [],
   "source": [
    "df = aapl_data\n",
    "df1 = df.reset_index()['Close']"
   ]
  },
  {
   "cell_type": "code",
   "execution_count": 4,
   "id": "3fc93c31-32b1-4230-96bb-645ab5b2a9f1",
   "metadata": {},
   "outputs": [
    {
     "data": {
      "text/plain": [
       "(1086, 1)"
      ]
     },
     "execution_count": 4,
     "metadata": {},
     "output_type": "execute_result"
    }
   ],
   "source": [
    "df1.shape"
   ]
  },
  {
   "cell_type": "code",
   "execution_count": 5,
   "id": "d18d47d0-850a-4eac-8a63-a83e4b0b8b28",
   "metadata": {},
   "outputs": [
    {
     "data": {
      "text/html": [
       "<div>\n",
       "<style scoped>\n",
       "    .dataframe tbody tr th:only-of-type {\n",
       "        vertical-align: middle;\n",
       "    }\n",
       "\n",
       "    .dataframe tbody tr th {\n",
       "        vertical-align: top;\n",
       "    }\n",
       "\n",
       "    .dataframe thead th {\n",
       "        text-align: right;\n",
       "    }\n",
       "</style>\n",
       "<table border=\"1\" class=\"dataframe\">\n",
       "  <thead>\n",
       "    <tr style=\"text-align: right;\">\n",
       "      <th>Ticker</th>\n",
       "      <th>AAPL</th>\n",
       "    </tr>\n",
       "  </thead>\n",
       "  <tbody>\n",
       "    <tr>\n",
       "      <th>0</th>\n",
       "      <td>75.087502</td>\n",
       "    </tr>\n",
       "    <tr>\n",
       "      <th>1</th>\n",
       "      <td>74.357498</td>\n",
       "    </tr>\n",
       "    <tr>\n",
       "      <th>2</th>\n",
       "      <td>74.949997</td>\n",
       "    </tr>\n",
       "    <tr>\n",
       "      <th>3</th>\n",
       "      <td>74.597504</td>\n",
       "    </tr>\n",
       "    <tr>\n",
       "      <th>4</th>\n",
       "      <td>75.797501</td>\n",
       "    </tr>\n",
       "    <tr>\n",
       "      <th>...</th>\n",
       "      <td>...</td>\n",
       "    </tr>\n",
       "    <tr>\n",
       "      <th>1081</th>\n",
       "      <td>165.000000</td>\n",
       "    </tr>\n",
       "    <tr>\n",
       "      <th>1082</th>\n",
       "      <td>165.839996</td>\n",
       "    </tr>\n",
       "    <tr>\n",
       "      <th>1083</th>\n",
       "      <td>166.899994</td>\n",
       "    </tr>\n",
       "    <tr>\n",
       "      <th>1084</th>\n",
       "      <td>169.020004</td>\n",
       "    </tr>\n",
       "    <tr>\n",
       "      <th>1085</th>\n",
       "      <td>169.889999</td>\n",
       "    </tr>\n",
       "  </tbody>\n",
       "</table>\n",
       "<p>1086 rows × 1 columns</p>\n",
       "</div>"
      ],
      "text/plain": [
       "Ticker        AAPL\n",
       "0        75.087502\n",
       "1        74.357498\n",
       "2        74.949997\n",
       "3        74.597504\n",
       "4        75.797501\n",
       "...            ...\n",
       "1081    165.000000\n",
       "1082    165.839996\n",
       "1083    166.899994\n",
       "1084    169.020004\n",
       "1085    169.889999\n",
       "\n",
       "[1086 rows x 1 columns]"
      ]
     },
     "execution_count": 5,
     "metadata": {},
     "output_type": "execute_result"
    }
   ],
   "source": [
    "df1"
   ]
  },
  {
   "cell_type": "code",
   "execution_count": 6,
   "id": "7f976d5c-d5c7-49c5-95de-5c0226c4aab4",
   "metadata": {},
   "outputs": [
    {
     "data": {
      "text/plain": [
       "[<matplotlib.lines.Line2D at 0x160233c5e10>]"
      ]
     },
     "execution_count": 6,
     "metadata": {},
     "output_type": "execute_result"
    },
    {
     "data": {
      "image/png": "[encoded data removed]",
      "text/plain": [
       "<Figure size 640x480 with 1 Axes>"
      ]
     },
     "metadata": {},
     "output_type": "display_data"
    }
   ],
   "source": [
    "# plotting the close column\n",
    "import matplotlib.pyplot as plt\n",
    "plt.plot(df1)"
   ]
  },
  {
   "cell_type": "code",
   "execution_count": 7,
   "id": "c450c62b-5482-4c47-858b-5828c67c5e3e",
   "metadata": {},
   "outputs": [],
   "source": [
    "# Transforming values between (0,1) using MinMaxScaler since LSTM are sensitive\n",
    "import numpy as np\n",
    "from sklearn.preprocessing import MinMaxScaler\n",
    "scaler = MinMaxScaler(feature_range=(0,1))\n",
    "df1 = scaler.fit_transform(np.array(df1).reshape(-1,1))"
   ]
  },
  {
   "cell_type": "code",
   "execution_count": 8,
   "id": "0b366dae-197d-4ff8-94a4-29a32556df04",
   "metadata": {},
   "outputs": [
    {
     "name": "stdout",
     "output_type": "stream",
     "text": [
      "[[0.13375114]\n",
      " [0.1286109 ]\n",
      " [0.13278292]\n",
      " ...\n",
      " [0.78023831]\n",
      " [0.79516612]\n",
      " [0.80129209]]\n"
     ]
    }
   ],
   "source": [
    "print(df1)"
   ]
  },
  {
   "cell_type": "markdown",
   "id": "25ba852a-2b12-45ff-af01-1e240fcd40df",
   "metadata": {},
   "source": [
    "Preprocessing the data"
   ]
  },
  {
   "cell_type": "code",
   "execution_count": 11,
   "id": "09ba35a4-69dd-4f54-9b08-1ba7d3401288",
   "metadata": {},
   "outputs": [
    {
     "data": {
      "text/plain": [
       "(705, 381)"
      ]
     },
     "execution_count": 11,
     "metadata": {},
     "output_type": "execute_result"
    }
   ],
   "source": [
    "#splitting the data into training and testing data set\n",
    "training_set_size = int(len(df1)*0.65)\n",
    "testing_set_size = len(df1) - training_set_size\n",
    "training_set_size, testing_set_size"
   ]
  },
  {
   "cell_type": "code",
   "execution_count": 12,
   "id": "7e9186d5-576a-4e43-b9f5-7852d4bb4a8a",
   "metadata": {},
   "outputs": [
    {
     "data": {
      "text/plain": [
       "705"
      ]
     },
     "execution_count": 12,
     "metadata": {},
     "output_type": "execute_result"
    }
   ],
   "source": [
    "train_data, test_data = df1[0:training_set_size,:], df1[training_set_size:len(df1),:1]\n",
    "len(train_data)"
   ]
  },
  {
   "cell_type": "code",
   "execution_count": 13,
   "id": "07817ac9-a1fd-45c0-83a2-cd93d70ef283",
   "metadata": {},
   "outputs": [],
   "source": [
    "#Convert an array of values into a dataset matrix\n",
    "import numpy\n",
    "def create_dataset(dataset, time_step=1):\n",
    "    dataX, dataY = [], []\n",
    "    for i in range(len(dataset)-time_step-1):\n",
    "        a = dataset[i:(i+time_step), 0]\n",
    "        dataX.append(a)\n",
    "        dataY.append(dataset[i + time_step, 0])\n",
    "    return numpy.array(dataX), numpy.array(dataY)"
   ]
  },
  {
   "cell_type": "code",
   "execution_count": 15,
   "id": "f1fc277b-d5ca-45e4-b813-21366aa1f7e7",
   "metadata": {},
   "outputs": [
    {
     "name": "stdout",
     "output_type": "stream",
     "text": [
      "(604, 100)\n",
      "(604,)\n"
     ]
    },
    {
     "data": {
      "text/plain": [
       "(None, None)"
      ]
     },
     "execution_count": 15,
     "metadata": {},
     "output_type": "execute_result"
    }
   ],
   "source": [
    "#lets take time step as 100\n",
    "time_step = 100\n",
    "X_train, Y_train = create_dataset(train_data, time_step)\n",
    "X_test, Y_test = create_dataset(test_data, time_step)\n",
    "print(X_train.shape), print(Y_train.shape)"
   ]
  },
  {
   "cell_type": "code",
   "execution_count": 17,
   "id": "3d766ff0-8ee6-4065-859d-4d6b8b93ceae",
   "metadata": {},
   "outputs": [
    {
     "name": "stdout",
     "output_type": "stream",
     "text": [
      "(280, 100)\n",
      "(280,)\n"
     ]
    },
    {
     "data": {
      "text/plain": [
       "(None, None)"
      ]
     },
     "execution_count": 17,
     "metadata": {},
     "output_type": "execute_result"
    }
   ],
   "source": [
    "print(X_test.shape), print(Y_test.shape)\n",
    "#output: (no. of records, no. of timesteps)"
   ]
  },
  {
   "cell_type": "markdown",
   "id": "734415ba-c530-4a95-82e5-c1c29a5a7677",
   "metadata": {},
   "source": [
    "Create the stacked LSTM model"
   ]
  },
  {
   "cell_type": "code",
   "execution_count": 19,
   "id": "30efdd26-b9da-4408-9e61-3293e68ae5b5",
   "metadata": {},
   "outputs": [
    {
     "name": "stdout",
     "output_type": "stream",
     "text": [
      "(604, 100, 1)\n"
     ]
    }
   ],
   "source": [
    "# reshape input to be [samples, time steps, features], since it is required in LSTM\n",
    "X_train = X_train.reshape(X_train.shape[0],X_train.shape[1],1)\n",
    "X_test = X_test.reshape(X_test.shape[0],X_test.shape[1],1)\n",
    "print(X_train.shape)"
   ]
  },
  {
   "cell_type": "code",
   "execution_count": 31,
   "id": "77ba4a71-5a18-4203-ac29-475ef25472df",
   "metadata": {},
   "outputs": [],
   "source": [
    "# creating stacked lstm\n",
    "from tensorflow.keras.models import Sequential\n",
    "from tensorflow.keras.layers import Dense\n",
    "from tensorflow.keras.layers import LSTM\n"
   ]
  },
  {
   "cell_type": "code",
   "execution_count": 32,
   "id": "ea113a77-bb2f-4037-99f9-1a401c4b5b76",
   "metadata": {},
   "outputs": [
    {
     "name": "stderr",
     "output_type": "stream",
     "text": [
      "C:\\Users\\Aditya Shinde\\AppData\\Roaming\\Python\\Python311\\site-packages\\keras\\src\\layers\\rnn\\rnn.py:204: UserWarning: Do not pass an `input_shape`/`input_dim` argument to a layer. When using Sequential models, prefer using an `Input(shape)` object as the first layer in the model instead.\n",
      "  super().__init__(**kwargs)\n"
     ]
    },
    {
     "data": {
      "text/html": [
       "<pre style=\"white-space:pre;overflow-x:auto;line-height:normal;font-family:Menlo,'DejaVu Sans Mono',consolas,'Courier New',monospace\"><span style=\"font-weight: bold\">Model: \"sequential\"</span>\n",
       "</pre>\n"
      ],
      "text/plain": [
       "\u001b[1mModel: \"sequential\"\u001b[0m\n"
      ]
     },
     "metadata": {},
     "output_type": "display_data"
    },
    {
     "data": {
      "text/html": [
       "<pre style=\"white-space:pre;overflow-x:auto;line-height:normal;font-family:Menlo,'DejaVu Sans Mono',consolas,'Courier New',monospace\">┏━━━━━━━━━━━━━━━━━━━━━━━━━━━━━━━━━┳━━━━━━━━━━━━━━━━━━━━━━━━┳━━━━━━━━━━━━━━━┓\n",
       "┃<span style=\"font-weight: bold\"> Layer (type)                    </span>┃<span style=\"font-weight: bold\"> Output Shape           </span>┃<span style=\"font-weight: bold\">       Param # </span>┃\n",
       "┡━━━━━━━━━━━━━━━━━━━━━━━━━━━━━━━━━╇━━━━━━━━━━━━━━━━━━━━━━━━╇━━━━━━━━━━━━━━━┩\n",
       "│ lstm (<span style=\"color: #0087ff; text-decoration-color: #0087ff\">LSTM</span>)                     │ (<span style=\"color: #00d7ff; text-decoration-color: #00d7ff\">None</span>, <span style=\"color: #00af00; text-decoration-color: #00af00\">100</span>, <span style=\"color: #00af00; text-decoration-color: #00af00\">50</span>)        │        <span style=\"color: #00af00; text-decoration-color: #00af00\">10,400</span> │\n",
       "├─────────────────────────────────┼────────────────────────┼───────────────┤\n",
       "│ lstm_1 (<span style=\"color: #0087ff; text-decoration-color: #0087ff\">LSTM</span>)                   │ (<span style=\"color: #00d7ff; text-decoration-color: #00d7ff\">None</span>, <span style=\"color: #00af00; text-decoration-color: #00af00\">100</span>, <span style=\"color: #00af00; text-decoration-color: #00af00\">50</span>)        │        <span style=\"color: #00af00; text-decoration-color: #00af00\">20,200</span> │\n",
       "├─────────────────────────────────┼────────────────────────┼───────────────┤\n",
       "│ lstm_2 (<span style=\"color: #0087ff; text-decoration-color: #0087ff\">LSTM</span>)                   │ (<span style=\"color: #00d7ff; text-decoration-color: #00d7ff\">None</span>, <span style=\"color: #00af00; text-decoration-color: #00af00\">50</span>)             │        <span style=\"color: #00af00; text-decoration-color: #00af00\">20,200</span> │\n",
       "├─────────────────────────────────┼────────────────────────┼───────────────┤\n",
       "│ dense (<span style=\"color: #0087ff; text-decoration-color: #0087ff\">Dense</span>)                   │ (<span style=\"color: #00d7ff; text-decoration-color: #00d7ff\">None</span>, <span style=\"color: #00af00; text-decoration-color: #00af00\">1</span>)              │            <span style=\"color: #00af00; text-decoration-color: #00af00\">51</span> │\n",
       "└─────────────────────────────────┴────────────────────────┴───────────────┘\n",
       "</pre>\n"
      ],
      "text/plain": [
       "┏━━━━━━━━━━━━━━━━━━━━━━━━━━━━━━━━━┳━━━━━━━━━━━━━━━━━━━━━━━━┳━━━━━━━━━━━━━━━┓\n",
       "┃\u001b[1m \u001b[0m\u001b[1mLayer (type)                   \u001b[0m\u001b[1m \u001b[0m┃\u001b[1m \u001b[0m\u001b[1mOutput Shape          \u001b[0m\u001b[1m \u001b[0m┃\u001b[1m \u001b[0m\u001b[1m      Param #\u001b[0m\u001b[1m \u001b[0m┃\n",
       "┡━━━━━━━━━━━━━━━━━━━━━━━━━━━━━━━━━╇━━━━━━━━━━━━━━━━━━━━━━━━╇━━━━━━━━━━━━━━━┩\n",
       "│ lstm (\u001b[38;5;33mLSTM\u001b[0m)                     │ (\u001b[38;5;45mNone\u001b[0m, \u001b[38;5;34m100\u001b[0m, \u001b[38;5;34m50\u001b[0m)        │        \u001b[38;5;34m10,400\u001b[0m │\n",
       "├─────────────────────────────────┼────────────────────────┼───────────────┤\n",
       "│ lstm_1 (\u001b[38;5;33mLSTM\u001b[0m)                   │ (\u001b[38;5;45mNone\u001b[0m, \u001b[38;5;34m100\u001b[0m, \u001b[38;5;34m50\u001b[0m)        │        \u001b[38;5;34m20,200\u001b[0m │\n",
       "├─────────────────────────────────┼────────────────────────┼───────────────┤\n",
       "│ lstm_2 (\u001b[38;5;33mLSTM\u001b[0m)                   │ (\u001b[38;5;45mNone\u001b[0m, \u001b[38;5;34m50\u001b[0m)             │        \u001b[38;5;34m20,200\u001b[0m │\n",
       "├─────────────────────────────────┼────────────────────────┼───────────────┤\n",
       "│ dense (\u001b[38;5;33mDense\u001b[0m)                   │ (\u001b[38;5;45mNone\u001b[0m, \u001b[38;5;34m1\u001b[0m)              │            \u001b[38;5;34m51\u001b[0m │\n",
       "└─────────────────────────────────┴────────────────────────┴───────────────┘\n"
      ]
     },
     "metadata": {},
     "output_type": "display_data"
    },
    {
     "data": {
      "text/html": [
       "<pre style=\"white-space:pre;overflow-x:auto;line-height:normal;font-family:Menlo,'DejaVu Sans Mono',consolas,'Courier New',monospace\"><span style=\"font-weight: bold\"> Total params: </span><span style=\"color: #00af00; text-decoration-color: #00af00\">50,851</span> (198.64 KB)\n",
       "</pre>\n"
      ],
      "text/plain": [
       "\u001b[1m Total params: \u001b[0m\u001b[38;5;34m50,851\u001b[0m (198.64 KB)\n"
      ]
     },
     "metadata": {},
     "output_type": "display_data"
    },
    {
     "data": {
      "text/html": [
       "<pre style=\"white-space:pre;overflow-x:auto;line-height:normal;font-family:Menlo,'DejaVu Sans Mono',consolas,'Courier New',monospace\"><span style=\"font-weight: bold\"> Trainable params: </span><span style=\"color: #00af00; text-decoration-color: #00af00\">50,851</span> (198.64 KB)\n",
       "</pre>\n"
      ],
      "text/plain": [
       "\u001b[1m Trainable params: \u001b[0m\u001b[38;5;34m50,851\u001b[0m (198.64 KB)\n"
      ]
     },
     "metadata": {},
     "output_type": "display_data"
    },
    {
     "data": {
      "text/html": [
       "<pre style=\"white-space:pre;overflow-x:auto;line-height:normal;font-family:Menlo,'DejaVu Sans Mono',consolas,'Courier New',monospace\"><span style=\"font-weight: bold\"> Non-trainable params: </span><span style=\"color: #00af00; text-decoration-color: #00af00\">0</span> (0.00 B)\n",
       "</pre>\n"
      ],
      "text/plain": [
       "\u001b[1m Non-trainable params: \u001b[0m\u001b[38;5;34m0\u001b[0m (0.00 B)\n"
      ]
     },
     "metadata": {},
     "output_type": "display_data"
    }
   ],
   "source": [
    "model = Sequential()\n",
    "model.add(LSTM(50,return_sequences=True,input_shape=(100,1)))\n",
    "model.add(LSTM(50,return_sequences=True))\n",
    "model.add(LSTM(50))\n",
    "model.add(Dense(1))\n",
    "model.compile(loss='mean_squared_error',optimizer='adam')\n",
    "model.summary()"
   ]
  },
  {
   "cell_type": "code",
   "execution_count": 33,
   "id": "5815a2a8-7816-4945-a9fc-6874e9c5ea36",
   "metadata": {},
   "outputs": [
    {
     "name": "stdout",
     "output_type": "stream",
     "text": [
      "Epoch 1/100\n",
      "\u001b[1m10/10\u001b[0m \u001b[32m━━━━━━━━━━━━━━━━━━━━\u001b[0m\u001b[37m\u001b[0m \u001b[1m7s\u001b[0m 190ms/step - loss: 0.2461 - val_loss: 0.0212\n",
      "Epoch 2/100\n",
      "\u001b[1m10/10\u001b[0m \u001b[32m━━━━━━━━━━━━━━━━━━━━\u001b[0m\u001b[37m\u001b[0m \u001b[1m1s\u001b[0m 121ms/step - loss: 0.0181 - val_loss: 0.0426\n",
      "Epoch 3/100\n",
      "\u001b[1m10/10\u001b[0m \u001b[32m━━━━━━━━━━━━━━━━━━━━\u001b[0m\u001b[37m\u001b[0m \u001b[1m1s\u001b[0m 122ms/step - loss: 0.0078 - val_loss: 0.0050\n",
      "Epoch 4/100\n",
      "\u001b[1m10/10\u001b[0m \u001b[32m━━━━━━━━━━━━━━━━━━━━\u001b[0m\u001b[37m\u001b[0m \u001b[1m1s\u001b[0m 117ms/step - loss: 0.0054 - val_loss: 0.0171\n",
      "Epoch 5/100\n",
      "\u001b[1m10/10\u001b[0m \u001b[32m━━━━━━━━━━━━━━━━━━━━\u001b[0m\u001b[37m\u001b[0m \u001b[1m1s\u001b[0m 135ms/step - loss: 0.0043 - val_loss: 0.0074\n",
      "Epoch 6/100\n",
      "\u001b[1m10/10\u001b[0m \u001b[32m━━━━━━━━━━━━━━━━━━━━\u001b[0m\u001b[37m\u001b[0m \u001b[1m2s\u001b[0m 203ms/step - loss: 0.0035 - val_loss: 0.0077\n",
      "Epoch 7/100\n",
      "\u001b[1m10/10\u001b[0m \u001b[32m━━━━━━━━━━━━━━━━━━━━\u001b[0m\u001b[37m\u001b[0m \u001b[1m2s\u001b[0m 197ms/step - loss: 0.0033 - val_loss: 0.0077\n",
      "Epoch 8/100\n",
      "\u001b[1m10/10\u001b[0m \u001b[32m━━━━━━━━━━━━━━━━━━━━\u001b[0m\u001b[37m\u001b[0m \u001b[1m2s\u001b[0m 182ms/step - loss: 0.0028 - val_loss: 0.0039\n",
      "Epoch 9/100\n",
      "\u001b[1m10/10\u001b[0m \u001b[32m━━━━━━━━━━━━━━━━━━━━\u001b[0m\u001b[37m\u001b[0m \u001b[1m1s\u001b[0m 138ms/step - loss: 0.0029 - val_loss: 0.0049\n",
      "Epoch 10/100\n",
      "\u001b[1m10/10\u001b[0m \u001b[32m━━━━━━━━━━━━━━━━━━━━\u001b[0m\u001b[37m\u001b[0m \u001b[1m2s\u001b[0m 152ms/step - loss: 0.0028 - val_loss: 0.0028\n",
      "Epoch 11/100\n",
      "\u001b[1m10/10\u001b[0m \u001b[32m━━━━━━━━━━━━━━━━━━━━\u001b[0m\u001b[37m\u001b[0m \u001b[1m1s\u001b[0m 94ms/step - loss: 0.0025 - val_loss: 0.0021\n",
      "Epoch 12/100\n",
      "\u001b[1m10/10\u001b[0m \u001b[32m━━━━━━━━━━━━━━━━━━━━\u001b[0m\u001b[37m\u001b[0m \u001b[1m1s\u001b[0m 103ms/step - loss: 0.0027 - val_loss: 0.0023\n",
      "Epoch 13/100\n",
      "\u001b[1m10/10\u001b[0m \u001b[32m━━━━━━━━━━━━━━━━━━━━\u001b[0m\u001b[37m\u001b[0m \u001b[1m2s\u001b[0m 246ms/step - loss: 0.0026 - val_loss: 0.0031\n",
      "Epoch 14/100\n",
      "\u001b[1m10/10\u001b[0m \u001b[32m━━━━━━━━━━━━━━━━━━━━\u001b[0m\u001b[37m\u001b[0m \u001b[1m2s\u001b[0m 245ms/step - loss: 0.0025 - val_loss: 0.0039\n",
      "Epoch 15/100\n",
      "\u001b[1m10/10\u001b[0m \u001b[32m━━━━━━━━━━━━━━━━━━━━\u001b[0m\u001b[37m\u001b[0m \u001b[1m2s\u001b[0m 170ms/step - loss: 0.0025 - val_loss: 0.0048\n",
      "Epoch 16/100\n",
      "\u001b[1m10/10\u001b[0m \u001b[32m━━━━━━━━━━━━━━━━━━━━\u001b[0m\u001b[37m\u001b[0m \u001b[1m1s\u001b[0m 130ms/step - loss: 0.0027 - val_loss: 0.0021\n",
      "Epoch 17/100\n",
      "\u001b[1m10/10\u001b[0m \u001b[32m━━━━━━━━━━━━━━━━━━━━\u001b[0m\u001b[37m\u001b[0m \u001b[1m1s\u001b[0m 101ms/step - loss: 0.0025 - val_loss: 0.0016\n",
      "Epoch 18/100\n",
      "\u001b[1m10/10\u001b[0m \u001b[32m━━━━━━━━━━━━━━━━━━━━\u001b[0m\u001b[37m\u001b[0m \u001b[1m2s\u001b[0m 169ms/step - loss: 0.0028 - val_loss: 0.0020\n",
      "Epoch 19/100\n",
      "\u001b[1m10/10\u001b[0m \u001b[32m━━━━━━━━━━━━━━━━━━━━\u001b[0m\u001b[37m\u001b[0m \u001b[1m1s\u001b[0m 129ms/step - loss: 0.0024 - val_loss: 0.0026\n",
      "Epoch 20/100\n",
      "\u001b[1m10/10\u001b[0m \u001b[32m━━━━━━━━━━━━━━━━━━━━\u001b[0m\u001b[37m\u001b[0m \u001b[1m2s\u001b[0m 181ms/step - loss: 0.0025 - val_loss: 0.0029\n",
      "Epoch 21/100\n",
      "\u001b[1m10/10\u001b[0m \u001b[32m━━━━━━━━━━━━━━━━━━━━\u001b[0m\u001b[37m\u001b[0m \u001b[1m1s\u001b[0m 135ms/step - loss: 0.0023 - val_loss: 0.0035\n",
      "Epoch 22/100\n",
      "\u001b[1m10/10\u001b[0m \u001b[32m━━━━━━━━━━━━━━━━━━━━\u001b[0m\u001b[37m\u001b[0m \u001b[1m1s\u001b[0m 110ms/step - loss: 0.0023 - val_loss: 0.0021\n",
      "Epoch 23/100\n",
      "\u001b[1m10/10\u001b[0m \u001b[32m━━━━━━━━━━━━━━━━━━━━\u001b[0m\u001b[37m\u001b[0m \u001b[1m2s\u001b[0m 167ms/step - loss: 0.0021 - val_loss: 0.0027\n",
      "Epoch 24/100\n",
      "\u001b[1m10/10\u001b[0m \u001b[32m━━━━━━━━━━━━━━━━━━━━\u001b[0m\u001b[37m\u001b[0m \u001b[1m2s\u001b[0m 177ms/step - loss: 0.0024 - val_loss: 0.0018\n",
      "Epoch 25/100\n",
      "\u001b[1m10/10\u001b[0m \u001b[32m━━━━━━━━━━━━━━━━━━━━\u001b[0m\u001b[37m\u001b[0m \u001b[1m2s\u001b[0m 210ms/step - loss: 0.0020 - val_loss: 0.0028\n",
      "Epoch 26/100\n",
      "\u001b[1m10/10\u001b[0m \u001b[32m━━━━━━━━━━━━━━━━━━━━\u001b[0m\u001b[37m\u001b[0m \u001b[1m1s\u001b[0m 127ms/step - loss: 0.0021 - val_loss: 0.0021\n",
      "Epoch 27/100\n",
      "\u001b[1m10/10\u001b[0m \u001b[32m━━━━━━━━━━━━━━━━━━━━\u001b[0m\u001b[37m\u001b[0m \u001b[1m1s\u001b[0m 149ms/step - loss: 0.0020 - val_loss: 0.0019\n",
      "Epoch 28/100\n",
      "\u001b[1m10/10\u001b[0m \u001b[32m━━━━━━━━━━━━━━━━━━━━\u001b[0m\u001b[37m\u001b[0m \u001b[1m1s\u001b[0m 123ms/step - loss: 0.0020 - val_loss: 0.0017\n",
      "Epoch 29/100\n",
      "\u001b[1m10/10\u001b[0m \u001b[32m━━━━━━━━━━━━━━━━━━━━\u001b[0m\u001b[37m\u001b[0m \u001b[1m2s\u001b[0m 170ms/step - loss: 0.0019 - val_loss: 0.0018\n",
      "Epoch 30/100\n",
      "\u001b[1m10/10\u001b[0m \u001b[32m━━━━━━━━━━━━━━━━━━━━\u001b[0m\u001b[37m\u001b[0m \u001b[1m2s\u001b[0m 162ms/step - loss: 0.0018 - val_loss: 0.0025\n",
      "Epoch 31/100\n",
      "\u001b[1m10/10\u001b[0m \u001b[32m━━━━━━━━━━━━━━━━━━━━\u001b[0m\u001b[37m\u001b[0m \u001b[1m2s\u001b[0m 221ms/step - loss: 0.0019 - val_loss: 0.0018\n",
      "Epoch 32/100\n",
      "\u001b[1m10/10\u001b[0m \u001b[32m━━━━━━━━━━━━━━━━━━━━\u001b[0m\u001b[37m\u001b[0m \u001b[1m1s\u001b[0m 117ms/step - loss: 0.0017 - val_loss: 0.0026\n",
      "Epoch 33/100\n",
      "\u001b[1m10/10\u001b[0m \u001b[32m━━━━━━━━━━━━━━━━━━━━\u001b[0m\u001b[37m\u001b[0m \u001b[1m1s\u001b[0m 146ms/step - loss: 0.0020 - val_loss: 0.0032\n",
      "Epoch 34/100\n",
      "\u001b[1m10/10\u001b[0m \u001b[32m━━━━━━━━━━━━━━━━━━━━\u001b[0m\u001b[37m\u001b[0m \u001b[1m2s\u001b[0m 219ms/step - loss: 0.0018 - val_loss: 0.0020\n",
      "Epoch 35/100\n",
      "\u001b[1m10/10\u001b[0m \u001b[32m━━━━━━━━━━━━━━━━━━━━\u001b[0m\u001b[37m\u001b[0m \u001b[1m2s\u001b[0m 190ms/step - loss: 0.0017 - val_loss: 0.0032\n",
      "Epoch 36/100\n",
      "\u001b[1m10/10\u001b[0m \u001b[32m━━━━━━━━━━━━━━━━━━━━\u001b[0m\u001b[37m\u001b[0m \u001b[1m2s\u001b[0m 184ms/step - loss: 0.0017 - val_loss: 0.0040\n",
      "Epoch 37/100\n",
      "\u001b[1m10/10\u001b[0m \u001b[32m━━━━━━━━━━━━━━━━━━━━\u001b[0m\u001b[37m\u001b[0m \u001b[1m1s\u001b[0m 149ms/step - loss: 0.0017 - val_loss: 0.0012\n",
      "Epoch 38/100\n",
      "\u001b[1m10/10\u001b[0m \u001b[32m━━━━━━━━━━━━━━━━━━━━\u001b[0m\u001b[37m\u001b[0m \u001b[1m1s\u001b[0m 147ms/step - loss: 0.0021 - val_loss: 0.0014\n",
      "Epoch 39/100\n",
      "\u001b[1m10/10\u001b[0m \u001b[32m━━━━━━━━━━━━━━━━━━━━\u001b[0m\u001b[37m\u001b[0m \u001b[1m2s\u001b[0m 223ms/step - loss: 0.0021 - val_loss: 0.0018\n",
      "Epoch 40/100\n",
      "\u001b[1m10/10\u001b[0m \u001b[32m━━━━━━━━━━━━━━━━━━━━\u001b[0m\u001b[37m\u001b[0m \u001b[1m1s\u001b[0m 129ms/step - loss: 0.0019 - val_loss: 0.0036\n",
      "Epoch 41/100\n",
      "\u001b[1m10/10\u001b[0m \u001b[32m━━━━━━━━━━━━━━━━━━━━\u001b[0m\u001b[37m\u001b[0m \u001b[1m1s\u001b[0m 122ms/step - loss: 0.0016 - val_loss: 0.0025\n",
      "Epoch 42/100\n",
      "\u001b[1m10/10\u001b[0m \u001b[32m━━━━━━━━━━━━━━━━━━━━\u001b[0m\u001b[37m\u001b[0m \u001b[1m1s\u001b[0m 131ms/step - loss: 0.0018 - val_loss: 0.0017\n",
      "Epoch 43/100\n",
      "\u001b[1m10/10\u001b[0m \u001b[32m━━━━━━━━━━━━━━━━━━━━\u001b[0m\u001b[37m\u001b[0m \u001b[1m2s\u001b[0m 184ms/step - loss: 0.0017 - val_loss: 0.0012\n",
      "Epoch 44/100\n",
      "\u001b[1m10/10\u001b[0m \u001b[32m━━━━━━━━━━━━━━━━━━━━\u001b[0m\u001b[37m\u001b[0m \u001b[1m2s\u001b[0m 196ms/step - loss: 0.0018 - val_loss: 0.0012\n",
      "Epoch 45/100\n",
      "\u001b[1m10/10\u001b[0m \u001b[32m━━━━━━━━━━━━━━━━━━━━\u001b[0m\u001b[37m\u001b[0m \u001b[1m2s\u001b[0m 184ms/step - loss: 0.0018 - val_loss: 0.0019\n",
      "Epoch 46/100\n",
      "\u001b[1m10/10\u001b[0m \u001b[32m━━━━━━━━━━━━━━━━━━━━\u001b[0m\u001b[37m\u001b[0m \u001b[1m2s\u001b[0m 161ms/step - loss: 0.0017 - val_loss: 0.0020\n",
      "Epoch 47/100\n",
      "\u001b[1m10/10\u001b[0m \u001b[32m━━━━━━━━━━━━━━━━━━━━\u001b[0m\u001b[37m\u001b[0m \u001b[1m2s\u001b[0m 171ms/step - loss: 0.0015 - val_loss: 0.0012\n",
      "Epoch 48/100\n",
      "\u001b[1m10/10\u001b[0m \u001b[32m━━━━━━━━━━━━━━━━━━━━\u001b[0m\u001b[37m\u001b[0m \u001b[1m2s\u001b[0m 202ms/step - loss: 0.0016 - val_loss: 0.0021\n",
      "Epoch 49/100\n",
      "\u001b[1m10/10\u001b[0m \u001b[32m━━━━━━━━━━━━━━━━━━━━\u001b[0m\u001b[37m\u001b[0m \u001b[1m1s\u001b[0m 117ms/step - loss: 0.0015 - val_loss: 0.0018\n",
      "Epoch 50/100\n",
      "\u001b[1m10/10\u001b[0m \u001b[32m━━━━━━━━━━━━━━━━━━━━\u001b[0m\u001b[37m\u001b[0m \u001b[1m2s\u001b[0m 156ms/step - loss: 0.0015 - val_loss: 0.0023\n",
      "Epoch 51/100\n",
      "\u001b[1m10/10\u001b[0m \u001b[32m━━━━━━━━━━━━━━━━━━━━\u001b[0m\u001b[37m\u001b[0m \u001b[1m1s\u001b[0m 136ms/step - loss: 0.0015 - val_loss: 0.0033\n",
      "Epoch 52/100\n",
      "\u001b[1m10/10\u001b[0m \u001b[32m━━━━━━━━━━━━━━━━━━━━\u001b[0m\u001b[37m\u001b[0m \u001b[1m2s\u001b[0m 210ms/step - loss: 0.0015 - val_loss: 0.0015\n",
      "Epoch 53/100\n",
      "\u001b[1m10/10\u001b[0m \u001b[32m━━━━━━━━━━━━━━━━━━━━\u001b[0m\u001b[37m\u001b[0m \u001b[1m2s\u001b[0m 219ms/step - loss: 0.0014 - val_loss: 0.0014\n",
      "Epoch 54/100\n",
      "\u001b[1m10/10\u001b[0m \u001b[32m━━━━━━━━━━━━━━━━━━━━\u001b[0m\u001b[37m\u001b[0m \u001b[1m1s\u001b[0m 120ms/step - loss: 0.0014 - val_loss: 0.0020\n",
      "Epoch 55/100\n",
      "\u001b[1m10/10\u001b[0m \u001b[32m━━━━━━━━━━━━━━━━━━━━\u001b[0m\u001b[37m\u001b[0m \u001b[1m1s\u001b[0m 104ms/step - loss: 0.0014 - val_loss: 0.0028\n",
      "Epoch 56/100\n",
      "\u001b[1m10/10\u001b[0m \u001b[32m━━━━━━━━━━━━━━━━━━━━\u001b[0m\u001b[37m\u001b[0m \u001b[1m2s\u001b[0m 177ms/step - loss: 0.0014 - val_loss: 0.0016\n",
      "Epoch 57/100\n",
      "\u001b[1m10/10\u001b[0m \u001b[32m━━━━━━━━━━━━━━━━━━━━\u001b[0m\u001b[37m\u001b[0m \u001b[1m2s\u001b[0m 181ms/step - loss: 0.0014 - val_loss: 0.0012\n",
      "Epoch 58/100\n",
      "\u001b[1m10/10\u001b[0m \u001b[32m━━━━━━━━━━━━━━━━━━━━\u001b[0m\u001b[37m\u001b[0m \u001b[1m1s\u001b[0m 134ms/step - loss: 0.0016 - val_loss: 0.0012\n",
      "Epoch 59/100\n",
      "\u001b[1m10/10\u001b[0m \u001b[32m━━━━━━━━━━━━━━━━━━━━\u001b[0m\u001b[37m\u001b[0m \u001b[1m1s\u001b[0m 102ms/step - loss: 0.0014 - val_loss: 0.0014\n",
      "Epoch 60/100\n",
      "\u001b[1m10/10\u001b[0m \u001b[32m━━━━━━━━━━━━━━━━━━━━\u001b[0m\u001b[37m\u001b[0m \u001b[1m1s\u001b[0m 105ms/step - loss: 0.0012 - val_loss: 0.0015\n",
      "Epoch 61/100\n",
      "\u001b[1m10/10\u001b[0m \u001b[32m━━━━━━━━━━━━━━━━━━━━\u001b[0m\u001b[37m\u001b[0m \u001b[1m2s\u001b[0m 177ms/step - loss: 0.0013 - val_loss: 0.0018\n",
      "Epoch 62/100\n",
      "\u001b[1m10/10\u001b[0m \u001b[32m━━━━━━━━━━━━━━━━━━━━\u001b[0m\u001b[37m\u001b[0m \u001b[1m2s\u001b[0m 167ms/step - loss: 0.0014 - val_loss: 9.9935e-04\n",
      "Epoch 63/100\n",
      "\u001b[1m10/10\u001b[0m \u001b[32m━━━━━━━━━━━━━━━━━━━━\u001b[0m\u001b[37m\u001b[0m \u001b[1m1s\u001b[0m 148ms/step - loss: 0.0014 - val_loss: 0.0016\n",
      "Epoch 64/100\n",
      "\u001b[1m10/10\u001b[0m \u001b[32m━━━━━━━━━━━━━━━━━━━━\u001b[0m\u001b[37m\u001b[0m \u001b[1m2s\u001b[0m 175ms/step - loss: 0.0013 - val_loss: 0.0020\n",
      "Epoch 65/100\n",
      "\u001b[1m10/10\u001b[0m \u001b[32m━━━━━━━━━━━━━━━━━━━━\u001b[0m\u001b[37m\u001b[0m \u001b[1m1s\u001b[0m 148ms/step - loss: 0.0014 - val_loss: 0.0012\n",
      "Epoch 66/100\n",
      "\u001b[1m10/10\u001b[0m \u001b[32m━━━━━━━━━━━━━━━━━━━━\u001b[0m\u001b[37m\u001b[0m \u001b[1m2s\u001b[0m 163ms/step - loss: 0.0013 - val_loss: 0.0012\n",
      "Epoch 67/100\n",
      "\u001b[1m10/10\u001b[0m \u001b[32m━━━━━━━━━━━━━━━━━━━━\u001b[0m\u001b[37m\u001b[0m \u001b[1m2s\u001b[0m 168ms/step - loss: 0.0013 - val_loss: 0.0013\n",
      "Epoch 68/100\n",
      "\u001b[1m10/10\u001b[0m \u001b[32m━━━━━━━━━━━━━━━━━━━━\u001b[0m\u001b[37m\u001b[0m \u001b[1m1s\u001b[0m 103ms/step - loss: 0.0012 - val_loss: 0.0012\n",
      "Epoch 69/100\n",
      "\u001b[1m10/10\u001b[0m \u001b[32m━━━━━━━━━━━━━━━━━━━━\u001b[0m\u001b[37m\u001b[0m \u001b[1m1s\u001b[0m 128ms/step - loss: 0.0013 - val_loss: 8.9667e-04\n",
      "Epoch 70/100\n",
      "\u001b[1m10/10\u001b[0m \u001b[32m━━━━━━━━━━━━━━━━━━━━\u001b[0m\u001b[37m\u001b[0m \u001b[1m2s\u001b[0m 199ms/step - loss: 0.0012 - val_loss: 8.7648e-04\n",
      "Epoch 71/100\n",
      "\u001b[1m10/10\u001b[0m \u001b[32m━━━━━━━━━━━━━━━━━━━━\u001b[0m\u001b[37m\u001b[0m \u001b[1m2s\u001b[0m 191ms/step - loss: 0.0013 - val_loss: 0.0016\n",
      "Epoch 72/100\n",
      "\u001b[1m10/10\u001b[0m \u001b[32m━━━━━━━━━━━━━━━━━━━━\u001b[0m\u001b[37m\u001b[0m \u001b[1m1s\u001b[0m 108ms/step - loss: 0.0011 - val_loss: 8.3999e-04\n",
      "Epoch 73/100\n",
      "\u001b[1m10/10\u001b[0m \u001b[32m━━━━━━━━━━━━━━━━━━━━\u001b[0m\u001b[37m\u001b[0m \u001b[1m1s\u001b[0m 118ms/step - loss: 0.0012 - val_loss: 0.0025\n",
      "Epoch 74/100\n",
      "\u001b[1m10/10\u001b[0m \u001b[32m━━━━━━━━━━━━━━━━━━━━\u001b[0m\u001b[37m\u001b[0m \u001b[1m2s\u001b[0m 206ms/step - loss: 0.0011 - val_loss: 8.4821e-04\n",
      "Epoch 75/100\n",
      "\u001b[1m10/10\u001b[0m \u001b[32m━━━━━━━━━━━━━━━━━━━━\u001b[0m\u001b[37m\u001b[0m \u001b[1m2s\u001b[0m 250ms/step - loss: 0.0012 - val_loss: 0.0012\n",
      "Epoch 76/100\n",
      "\u001b[1m10/10\u001b[0m \u001b[32m━━━━━━━━━━━━━━━━━━━━\u001b[0m\u001b[37m\u001b[0m \u001b[1m1s\u001b[0m 126ms/step - loss: 9.8637e-04 - val_loss: 0.0010\n",
      "Epoch 77/100\n",
      "\u001b[1m10/10\u001b[0m \u001b[32m━━━━━━━━━━━━━━━━━━━━\u001b[0m\u001b[37m\u001b[0m \u001b[1m2s\u001b[0m 168ms/step - loss: 0.0010 - val_loss: 0.0024\n",
      "Epoch 78/100\n",
      "\u001b[1m10/10\u001b[0m \u001b[32m━━━━━━━━━━━━━━━━━━━━\u001b[0m\u001b[37m\u001b[0m \u001b[1m3s\u001b[0m 256ms/step - loss: 0.0014 - val_loss: 0.0012\n",
      "Epoch 79/100\n",
      "\u001b[1m10/10\u001b[0m \u001b[32m━━━━━━━━━━━━━━━━━━━━\u001b[0m\u001b[37m\u001b[0m \u001b[1m2s\u001b[0m 206ms/step - loss: 0.0011 - val_loss: 8.7062e-04\n",
      "Epoch 80/100\n",
      "\u001b[1m10/10\u001b[0m \u001b[32m━━━━━━━━━━━━━━━━━━━━\u001b[0m\u001b[37m\u001b[0m \u001b[1m1s\u001b[0m 117ms/step - loss: 0.0013 - val_loss: 9.1769e-04\n",
      "Epoch 81/100\n",
      "\u001b[1m10/10\u001b[0m \u001b[32m━━━━━━━━━━━━━━━━━━━━\u001b[0m\u001b[37m\u001b[0m \u001b[1m1s\u001b[0m 114ms/step - loss: 9.7187e-04 - val_loss: 8.1512e-04\n",
      "Epoch 82/100\n",
      "\u001b[1m10/10\u001b[0m \u001b[32m━━━━━━━━━━━━━━━━━━━━\u001b[0m\u001b[37m\u001b[0m \u001b[1m2s\u001b[0m 198ms/step - loss: 0.0011 - val_loss: 0.0025\n",
      "Epoch 83/100\n",
      "\u001b[1m10/10\u001b[0m \u001b[32m━━━━━━━━━━━━━━━━━━━━\u001b[0m\u001b[37m\u001b[0m \u001b[1m3s\u001b[0m 258ms/step - loss: 0.0012 - val_loss: 7.8790e-04\n",
      "Epoch 84/100\n",
      "\u001b[1m10/10\u001b[0m \u001b[32m━━━━━━━━━━━━━━━━━━━━\u001b[0m\u001b[37m\u001b[0m \u001b[1m2s\u001b[0m 154ms/step - loss: 0.0010 - val_loss: 0.0016\n",
      "Epoch 85/100\n",
      "\u001b[1m10/10\u001b[0m \u001b[32m━━━━━━━━━━━━━━━━━━━━\u001b[0m\u001b[37m\u001b[0m \u001b[1m1s\u001b[0m 122ms/step - loss: 0.0010 - val_loss: 7.9512e-04\n",
      "Epoch 86/100\n",
      "\u001b[1m10/10\u001b[0m \u001b[32m━━━━━━━━━━━━━━━━━━━━\u001b[0m\u001b[37m\u001b[0m \u001b[1m2s\u001b[0m 226ms/step - loss: 9.3184e-04 - val_loss: 6.9829e-04\n",
      "Epoch 87/100\n",
      "\u001b[1m10/10\u001b[0m \u001b[32m━━━━━━━━━━━━━━━━━━━━\u001b[0m\u001b[37m\u001b[0m \u001b[1m2s\u001b[0m 204ms/step - loss: 0.0010 - val_loss: 0.0015\n",
      "Epoch 88/100\n",
      "\u001b[1m10/10\u001b[0m \u001b[32m━━━━━━━━━━━━━━━━━━━━\u001b[0m\u001b[37m\u001b[0m \u001b[1m1s\u001b[0m 110ms/step - loss: 9.4816e-04 - val_loss: 7.5445e-04\n",
      "Epoch 89/100\n",
      "\u001b[1m10/10\u001b[0m \u001b[32m━━━━━━━━━━━━━━━━━━━━\u001b[0m\u001b[37m\u001b[0m \u001b[1m1s\u001b[0m 131ms/step - loss: 8.9390e-04 - val_loss: 0.0010\n",
      "Epoch 90/100\n",
      "\u001b[1m10/10\u001b[0m \u001b[32m━━━━━━━━━━━━━━━━━━━━\u001b[0m\u001b[37m\u001b[0m \u001b[1m2s\u001b[0m 216ms/step - loss: 0.0011 - val_loss: 0.0011\n",
      "Epoch 91/100\n",
      "\u001b[1m10/10\u001b[0m \u001b[32m━━━━━━━━━━━━━━━━━━━━\u001b[0m\u001b[37m\u001b[0m \u001b[1m2s\u001b[0m 244ms/step - loss: 0.0012 - val_loss: 8.4364e-04\n",
      "Epoch 92/100\n",
      "\u001b[1m10/10\u001b[0m \u001b[32m━━━━━━━━━━━━━━━━━━━━\u001b[0m\u001b[37m\u001b[0m \u001b[1m2s\u001b[0m 200ms/step - loss: 9.7101e-04 - val_loss: 7.4072e-04\n",
      "Epoch 93/100\n",
      "\u001b[1m10/10\u001b[0m \u001b[32m━━━━━━━━━━━━━━━━━━━━\u001b[0m\u001b[37m\u001b[0m \u001b[1m2s\u001b[0m 157ms/step - loss: 8.5679e-04 - val_loss: 0.0011\n",
      "Epoch 94/100\n",
      "\u001b[1m10/10\u001b[0m \u001b[32m━━━━━━━━━━━━━━━━━━━━\u001b[0m\u001b[37m\u001b[0m \u001b[1m2s\u001b[0m 222ms/step - loss: 0.0010 - val_loss: 8.4783e-04\n",
      "Epoch 95/100\n",
      "\u001b[1m10/10\u001b[0m \u001b[32m━━━━━━━━━━━━━━━━━━━━\u001b[0m\u001b[37m\u001b[0m \u001b[1m1s\u001b[0m 129ms/step - loss: 0.0011 - val_loss: 0.0027\n",
      "Epoch 96/100\n",
      "\u001b[1m10/10\u001b[0m \u001b[32m━━━━━━━━━━━━━━━━━━━━\u001b[0m\u001b[37m\u001b[0m \u001b[1m1s\u001b[0m 111ms/step - loss: 0.0010 - val_loss: 0.0014\n",
      "Epoch 97/100\n",
      "\u001b[1m10/10\u001b[0m \u001b[32m━━━━━━━━━━━━━━━━━━━━\u001b[0m\u001b[37m\u001b[0m \u001b[1m2s\u001b[0m 165ms/step - loss: 0.0012 - val_loss: 0.0012\n",
      "Epoch 98/100\n",
      "\u001b[1m10/10\u001b[0m \u001b[32m━━━━━━━━━━━━━━━━━━━━\u001b[0m\u001b[37m\u001b[0m \u001b[1m2s\u001b[0m 201ms/step - loss: 8.9867e-04 - val_loss: 6.6653e-04\n",
      "Epoch 99/100\n",
      "\u001b[1m10/10\u001b[0m \u001b[32m━━━━━━━━━━━━━━━━━━━━\u001b[0m\u001b[37m\u001b[0m \u001b[1m1s\u001b[0m 107ms/step - loss: 8.9317e-04 - val_loss: 6.8629e-04\n",
      "Epoch 100/100\n",
      "\u001b[1m10/10\u001b[0m \u001b[32m━━━━━━━━━━━━━━━━━━━━\u001b[0m\u001b[37m\u001b[0m \u001b[1m1s\u001b[0m 112ms/step - loss: 8.8238e-04 - val_loss: 0.0017\n"
     ]
    },
    {
     "data": {
      "text/plain": [
       "<keras.src.callbacks.history.History at 0x16029997dd0>"
      ]
     },
     "execution_count": 33,
     "metadata": {},
     "output_type": "execute_result"
    }
   ],
   "source": [
    "model.fit(X_train, Y_train, validation_data=(X_test, Y_test),epochs=100,batch_size=64,verbose=1)"
   ]
  },
  {
   "cell_type": "markdown",
   "id": "d6ffcd50-565f-41ef-b1e9-ef977db67e79",
   "metadata": {},
   "source": [
    "Predict the test data and plot the output"
   ]
  },
  {
   "cell_type": "code",
   "execution_count": 34,
   "id": "a0f7621c-b2aa-45f7-8d09-8419046ab4aa",
   "metadata": {},
   "outputs": [
    {
     "name": "stdout",
     "output_type": "stream",
     "text": [
      "\u001b[1m19/19\u001b[0m \u001b[32m━━━━━━━━━━━━━━━━━━━━\u001b[0m\u001b[37m\u001b[0m \u001b[1m1s\u001b[0m 41ms/step\n",
      "\u001b[1m9/9\u001b[0m \u001b[32m━━━━━━━━━━━━━━━━━━━━\u001b[0m\u001b[37m\u001b[0m \u001b[1m0s\u001b[0m 16ms/step\n"
     ]
    }
   ],
   "source": [
    "#Lets do the prediction and check performance metrics\n",
    "train_predict = model.predict(X_train)\n",
    "test_predict = model.predict(X_test)"
   ]
  },
  {
   "cell_type": "code",
   "execution_count": 36,
   "id": "a1b8dd09-ca0b-422b-bddb-df307e395ab9",
   "metadata": {},
   "outputs": [],
   "source": [
    "#Transformback to original form\n",
    "train_predict = scaler.inverse_transform(train_predict)\n",
    "test_predict = scaler.inverse_transform(test_predict)"
   ]
  },
  {
   "cell_type": "code",
   "execution_count": 37,
   "id": "272bf4e8-449c-4f23-b68e-4902250c56a2",
   "metadata": {},
   "outputs": [
    {
     "data": {
      "text/plain": [
       "137.69565043224108"
      ]
     },
     "execution_count": 37,
     "metadata": {},
     "output_type": "execute_result"
    }
   ],
   "source": [
    "#Calculate Root Mean Square Error performance metrics\n",
    "import math\n",
    "from sklearn.metrics import mean_squared_error\n",
    "math.sqrt(mean_squared_error(Y_train,train_predict))"
   ]
  },
  {
   "cell_type": "code",
   "execution_count": 38,
   "id": "f1d86430-b220-418d-9b2d-6cefde21357c",
   "metadata": {},
   "outputs": [
    {
     "data": {
      "text/plain": [
       "173.84195045350356"
      ]
     },
     "execution_count": 38,
     "metadata": {},
     "output_type": "execute_result"
    }
   ],
   "source": [
    "math.sqrt(mean_squared_error(Y_test,test_predict))"
   ]
  },
  {
   "cell_type": "code",
   "execution_count": 39,
   "id": "e56cd72c-f93f-4709-b3dd-5c2cf6029555",
   "metadata": {},
   "outputs": [
    {
     "data": {
      "image/png": "[encoded data removed]",
      "text/plain": [
       "<Figure size 640x480 with 1 Axes>"
      ]
     },
     "metadata": {},
     "output_type": "display_data"
    }
   ],
   "source": [
    "#Plotting \n",
    "#shift train predictions for plotting\n",
    "look_back=100\n",
    "trainPredictPlot = numpy.empty_like(df1)\n",
    "trainPredictPlot[:, :] = np.nan\n",
    "trainPredictPlot[look_back:len(train_predict)+look_back, :] = train_predict\n",
    "\n",
    "#shift test predictions for plotting\n",
    "testPredictPlot = numpy.empty_like(df1)\n",
    "testPredictPlot[:, :] = numpy.nan\n",
    "testPredictPlot[len(train_predict)+(look_back*2)+1:len(df1)-1, :] = test_predict\n",
    "\n",
    "#plot baseline and predictions\n",
    "plt.plot(scaler.inverse_transform(df1))\n",
    "plt.plot(trainPredictPlot)\n",
    "plt.plot(testPredictPlot)\n",
    "plt.show()"
   ]
  },
  {
   "cell_type": "markdown",
   "id": "70bc6546-e46e-4d02-ae21-d7157c74e55c",
   "metadata": {},
   "source": [
    "Predicting the future 30 days and plot the output"
   ]
  },
  {
   "cell_type": "code",
   "execution_count": 40,
   "id": "d1bfd9f5-45e6-4f37-8b10-f83afd53b383",
   "metadata": {},
   "outputs": [
    {
     "data": {
      "text/plain": [
       "381"
      ]
     },
     "execution_count": 40,
     "metadata": {},
     "output_type": "execute_result"
    }
   ],
   "source": [
    "len(test_data)"
   ]
  },
  {
   "cell_type": "code",
   "execution_count": 42,
   "id": "a3765837-acf2-4213-ba3f-0ee468e0b50e",
   "metadata": {},
   "outputs": [
    {
     "data": {
      "text/plain": [
       "(1, 100)"
      ]
     },
     "execution_count": 42,
     "metadata": {},
     "output_type": "execute_result"
    }
   ],
   "source": [
    "#last 100 days data\n",
    "x_input = test_data[281:].reshape(1,-1)\n",
    "x_input.shape"
   ]
  },
  {
   "cell_type": "code",
   "execution_count": 43,
   "id": "69a9adcd-db0d-4ec3-ac8a-9ecf48217810",
   "metadata": {},
   "outputs": [
    {
     "data": {
      "text/plain": [
       "[0.9516257149392747,\n",
       " 0.9388807166535281,\n",
       " 0.9669758840921908,\n",
       " 0.9592304243386801,\n",
       " 0.9729611048752377,\n",
       " 0.983100717407778,\n",
       " 0.9652859128557613,\n",
       " 0.9760593317538494,\n",
       " 0.9989438351291181,\n",
       " 0.9999999999999999,\n",
       " 0.9961976990218065,\n",
       " 0.9843681152528364,\n",
       " 0.9917615916780654,\n",
       " 0.9769042636505548,\n",
       " 0.9758479913366546,\n",
       " 0.9682433893802677,\n",
       " 0.9643706057820031,\n",
       " 0.9650746798815849,\n",
       " 0.9681025315831439,\n",
       " 0.9607090551579148,\n",
       " 0.9121939123000661,\n",
       " 0.9024063905388257,\n",
       " 0.8859295738949565,\n",
       " 0.8807892850086153,\n",
       " 0.9116305885545896,\n",
       " 0.9086732194731016,\n",
       " 0.9160666958983305,\n",
       " 0.9118418215287659,\n",
       " 0.9141654916877245,\n",
       " 0.8980407658151556,\n",
       " 0.8913513634895086,\n",
       " 0.9332476940847999,\n",
       " 0.9538789024781625,\n",
       " 0.9702853439449789,\n",
       " 0.979368684163619,\n",
       " 0.9745805934915962,\n",
       " 0.9722569233326374,\n",
       " 0.959934498438262,\n",
       " 0.9550759251461681,\n",
       " 0.9290931948922879,\n",
       " 0.9034625554097077,\n",
       " 0.9207844113933007,\n",
       " 0.913672650562319,\n",
       " 0.9265582917591527,\n",
       " 0.9379654095797699,\n",
       " 0.9387399662994228,\n",
       " 0.9310648817229649,\n",
       " 0.9347968075241057,\n",
       " 0.9228263659580119,\n",
       " 0.9079690379305013,\n",
       " 0.9017022089962253,\n",
       " 0.8996602544315141,\n",
       " 0.8887460851793209,\n",
       " 0.8834650459388741,\n",
       " 0.8888165677993919,\n",
       " 0.9032513224355313,\n",
       " 0.8902248234415738,\n",
       " 0.88064853465451,\n",
       " 0.8909993801612269,\n",
       " 0.8824792562450449,\n",
       " 0.8777615407500748,\n",
       " 0.8700864561736167,\n",
       " 0.8379777547825843,\n",
       " 0.8029115768670453,\n",
       " 0.7958701912131166,\n",
       " 0.795025259316411,\n",
       " 0.8072068264136626,\n",
       " 0.8214304555186441,\n",
       " 0.8248102905484848,\n",
       " 0.8100234451410452,\n",
       " 0.8231908019321262,\n",
       " 0.8205150410018675,\n",
       " 0.8282606081983966,\n",
       " 0.8448782826393894,\n",
       " 0.8631154456967406,\n",
       " 0.8117133089344565,\n",
       " 0.818120995665856,\n",
       " 0.8080518657533867,\n",
       " 0.8000246904056286,\n",
       " 0.8253736142939613,\n",
       " 0.8124878656541094,\n",
       " 0.8022778779445162,\n",
       " 0.793898611825458,\n",
       " 0.7996021170142574,\n",
       " 0.7937578614713526,\n",
       " 0.7991092758888519,\n",
       " 0.7911524757181464,\n",
       " 0.799742974811381,\n",
       " 0.7864347602231764,\n",
       " 0.8375551813912131,\n",
       " 0.8481877424921774,\n",
       " 0.8210079895702914,\n",
       " 0.7977010202466698,\n",
       " 0.7879838736624821,\n",
       " 0.7812240961597824,\n",
       " 0.7668597167006957,\n",
       " 0.7727744548636714,\n",
       " 0.7802383064659532,\n",
       " 0.7951661171135348,\n",
       " 0.801292088250687]"
      ]
     },
     "execution_count": 43,
     "metadata": {},
     "output_type": "execute_result"
    }
   ],
   "source": [
    "#converting it into a list\n",
    "temp_input = list(x_input)\n",
    "temp_input = temp_input[0].tolist()\n",
    "temp_input"
   ]
  },
  {
   "cell_type": "code",
   "execution_count": 44,
   "id": "dd12594a-b7ed-4bc8-88bc-a3afae8a7976",
   "metadata": {},
   "outputs": [
    {
     "name": "stdout",
     "output_type": "stream",
     "text": [
      "[0.75034106]\n",
      "101\n",
      "1 day input [0.93888072 0.96697588 0.95923042 0.9729611  0.98310072 0.96528591\n",
      " 0.97605933 0.99894384 1.         0.9961977  0.98436812 0.99176159\n",
      " 0.97690426 0.97584799 0.96824339 0.96437061 0.96507468 0.96810253\n",
      " 0.96070906 0.91219391 0.90240639 0.88592957 0.88078929 0.91163059\n",
      " 0.90867322 0.9160667  0.91184182 0.91416549 0.89804077 0.89135136\n",
      " 0.93324769 0.9538789  0.97028534 0.97936868 0.97458059 0.97225692\n",
      " 0.9599345  0.95507593 0.92909319 0.90346256 0.92078441 0.91367265\n",
      " 0.92655829 0.93796541 0.93873997 0.93106488 0.93479681 0.92282637\n",
      " 0.90796904 0.90170221 0.89966025 0.88874609 0.88346505 0.88881657\n",
      " 0.90325132 0.89022482 0.88064853 0.89099938 0.88247926 0.87776154\n",
      " 0.87008646 0.83797775 0.80291158 0.79587019 0.79502526 0.80720683\n",
      " 0.82143046 0.82481029 0.81002345 0.8231908  0.82051504 0.82826061\n",
      " 0.84487828 0.86311545 0.81171331 0.818121   0.80805187 0.80002469\n",
      " 0.82537361 0.81248787 0.80227788 0.79389861 0.79960212 0.79375786\n",
      " 0.79910928 0.79115248 0.79974297 0.78643476 0.83755518 0.84818774\n",
      " 0.82100799 0.79770102 0.78798387 0.7812241  0.76685972 0.77277445\n",
      " 0.78023831 0.79516612 0.80129209 0.75034106]\n",
      "1 day out [[0.7509507]]\n",
      "2 day input [0.96697588 0.95923042 0.9729611  0.98310072 0.96528591 0.97605933\n",
      " 0.99894384 1.         0.9961977  0.98436812 0.99176159 0.97690426\n",
      " 0.97584799 0.96824339 0.96437061 0.96507468 0.96810253 0.96070906\n",
      " 0.91219391 0.90240639 0.88592957 0.88078929 0.91163059 0.90867322\n",
      " 0.9160667  0.91184182 0.91416549 0.89804077 0.89135136 0.93324769\n",
      " 0.9538789  0.97028534 0.97936868 0.97458059 0.97225692 0.9599345\n",
      " 0.95507593 0.92909319 0.90346256 0.92078441 0.91367265 0.92655829\n",
      " 0.93796541 0.93873997 0.93106488 0.93479681 0.92282637 0.90796904\n",
      " 0.90170221 0.89966025 0.88874609 0.88346505 0.88881657 0.90325132\n",
      " 0.89022482 0.88064853 0.89099938 0.88247926 0.87776154 0.87008646\n",
      " 0.83797775 0.80291158 0.79587019 0.79502526 0.80720683 0.82143046\n",
      " 0.82481029 0.81002345 0.8231908  0.82051504 0.82826061 0.84487828\n",
      " 0.86311545 0.81171331 0.818121   0.80805187 0.80002469 0.82537361\n",
      " 0.81248787 0.80227788 0.79389861 0.79960212 0.79375786 0.79910928\n",
      " 0.79115248 0.79974297 0.78643476 0.83755518 0.84818774 0.82100799\n",
      " 0.79770102 0.78798387 0.7812241  0.76685972 0.77277445 0.78023831\n",
      " 0.79516612 0.80129209 0.75034106 0.75095069]\n",
      "2 day out [[0.74727505]]\n",
      "3 day input [0.95923042 0.9729611  0.98310072 0.96528591 0.97605933 0.99894384\n",
      " 1.         0.9961977  0.98436812 0.99176159 0.97690426 0.97584799\n",
      " 0.96824339 0.96437061 0.96507468 0.96810253 0.96070906 0.91219391\n",
      " 0.90240639 0.88592957 0.88078929 0.91163059 0.90867322 0.9160667\n",
      " 0.91184182 0.91416549 0.89804077 0.89135136 0.93324769 0.9538789\n",
      " 0.97028534 0.97936868 0.97458059 0.97225692 0.9599345  0.95507593\n",
      " 0.92909319 0.90346256 0.92078441 0.91367265 0.92655829 0.93796541\n",
      " 0.93873997 0.93106488 0.93479681 0.92282637 0.90796904 0.90170221\n",
      " 0.89966025 0.88874609 0.88346505 0.88881657 0.90325132 0.89022482\n",
      " 0.88064853 0.89099938 0.88247926 0.87776154 0.87008646 0.83797775\n",
      " 0.80291158 0.79587019 0.79502526 0.80720683 0.82143046 0.82481029\n",
      " 0.81002345 0.8231908  0.82051504 0.82826061 0.84487828 0.86311545\n",
      " 0.81171331 0.818121   0.80805187 0.80002469 0.82537361 0.81248787\n",
      " 0.80227788 0.79389861 0.79960212 0.79375786 0.79910928 0.79115248\n",
      " 0.79974297 0.78643476 0.83755518 0.84818774 0.82100799 0.79770102\n",
      " 0.78798387 0.7812241  0.76685972 0.77277445 0.78023831 0.79516612\n",
      " 0.80129209 0.75034106 0.75095069 0.74727505]\n",
      "3 day out [[0.7406731]]\n",
      "4 day input [0.9729611  0.98310072 0.96528591 0.97605933 0.99894384 1.\n",
      " 0.9961977  0.98436812 0.99176159 0.97690426 0.97584799 0.96824339\n",
      " 0.96437061 0.96507468 0.96810253 0.96070906 0.91219391 0.90240639\n",
      " 0.88592957 0.88078929 0.91163059 0.90867322 0.9160667  0.91184182\n",
      " 0.91416549 0.89804077 0.89135136 0.93324769 0.9538789  0.97028534\n",
      " 0.97936868 0.97458059 0.97225692 0.9599345  0.95507593 0.92909319\n",
      " 0.90346256 0.92078441 0.91367265 0.92655829 0.93796541 0.93873997\n",
      " 0.93106488 0.93479681 0.92282637 0.90796904 0.90170221 0.89966025\n",
      " 0.88874609 0.88346505 0.88881657 0.90325132 0.89022482 0.88064853\n",
      " 0.89099938 0.88247926 0.87776154 0.87008646 0.83797775 0.80291158\n",
      " 0.79587019 0.79502526 0.80720683 0.82143046 0.82481029 0.81002345\n",
      " 0.8231908  0.82051504 0.82826061 0.84487828 0.86311545 0.81171331\n",
      " 0.818121   0.80805187 0.80002469 0.82537361 0.81248787 0.80227788\n",
      " 0.79389861 0.79960212 0.79375786 0.79910928 0.79115248 0.79974297\n",
      " 0.78643476 0.83755518 0.84818774 0.82100799 0.79770102 0.78798387\n",
      " 0.7812241  0.76685972 0.77277445 0.78023831 0.79516612 0.80129209\n",
      " 0.75034106 0.75095069 0.74727505 0.74067312]\n",
      "4 day out [[0.7325435]]\n",
      "5 day input [0.98310072 0.96528591 0.97605933 0.99894384 1.         0.9961977\n",
      " 0.98436812 0.99176159 0.97690426 0.97584799 0.96824339 0.96437061\n",
      " 0.96507468 0.96810253 0.96070906 0.91219391 0.90240639 0.88592957\n",
      " 0.88078929 0.91163059 0.90867322 0.9160667  0.91184182 0.91416549\n",
      " 0.89804077 0.89135136 0.93324769 0.9538789  0.97028534 0.97936868\n",
      " 0.97458059 0.97225692 0.9599345  0.95507593 0.92909319 0.90346256\n",
      " 0.92078441 0.91367265 0.92655829 0.93796541 0.93873997 0.93106488\n",
      " 0.93479681 0.92282637 0.90796904 0.90170221 0.89966025 0.88874609\n",
      " 0.88346505 0.88881657 0.90325132 0.89022482 0.88064853 0.89099938\n",
      " 0.88247926 0.87776154 0.87008646 0.83797775 0.80291158 0.79587019\n",
      " 0.79502526 0.80720683 0.82143046 0.82481029 0.81002345 0.8231908\n",
      " 0.82051504 0.82826061 0.84487828 0.86311545 0.81171331 0.818121\n",
      " 0.80805187 0.80002469 0.82537361 0.81248787 0.80227788 0.79389861\n",
      " 0.79960212 0.79375786 0.79910928 0.79115248 0.79974297 0.78643476\n",
      " 0.83755518 0.84818774 0.82100799 0.79770102 0.78798387 0.7812241\n",
      " 0.76685972 0.77277445 0.78023831 0.79516612 0.80129209 0.75034106\n",
      " 0.75095069 0.74727505 0.74067312 0.73254353]\n",
      "5 day out [[0.7238318]]\n",
      "6 day input [0.96528591 0.97605933 0.99894384 1.         0.9961977  0.98436812\n",
      " 0.99176159 0.97690426 0.97584799 0.96824339 0.96437061 0.96507468\n",
      " 0.96810253 0.96070906 0.91219391 0.90240639 0.88592957 0.88078929\n",
      " 0.91163059 0.90867322 0.9160667  0.91184182 0.91416549 0.89804077\n",
      " 0.89135136 0.93324769 0.9538789  0.97028534 0.97936868 0.97458059\n",
      " 0.97225692 0.9599345  0.95507593 0.92909319 0.90346256 0.92078441\n",
      " 0.91367265 0.92655829 0.93796541 0.93873997 0.93106488 0.93479681\n",
      " 0.92282637 0.90796904 0.90170221 0.89966025 0.88874609 0.88346505\n",
      " 0.88881657 0.90325132 0.89022482 0.88064853 0.89099938 0.88247926\n",
      " 0.87776154 0.87008646 0.83797775 0.80291158 0.79587019 0.79502526\n",
      " 0.80720683 0.82143046 0.82481029 0.81002345 0.8231908  0.82051504\n",
      " 0.82826061 0.84487828 0.86311545 0.81171331 0.818121   0.80805187\n",
      " 0.80002469 0.82537361 0.81248787 0.80227788 0.79389861 0.79960212\n",
      " 0.79375786 0.79910928 0.79115248 0.79974297 0.78643476 0.83755518\n",
      " 0.84818774 0.82100799 0.79770102 0.78798387 0.7812241  0.76685972\n",
      " 0.77277445 0.78023831 0.79516612 0.80129209 0.75034106 0.75095069\n",
      " 0.74727505 0.74067312 0.73254353 0.72383177]\n",
      "6 day out [[0.71505284]]\n",
      "7 day input [0.97605933 0.99894384 1.         0.9961977  0.98436812 0.99176159\n",
      " 0.97690426 0.97584799 0.96824339 0.96437061 0.96507468 0.96810253\n",
      " 0.96070906 0.91219391 0.90240639 0.88592957 0.88078929 0.91163059\n",
      " 0.90867322 0.9160667  0.91184182 0.91416549 0.89804077 0.89135136\n",
      " 0.93324769 0.9538789  0.97028534 0.97936868 0.97458059 0.97225692\n",
      " 0.9599345  0.95507593 0.92909319 0.90346256 0.92078441 0.91367265\n",
      " 0.92655829 0.93796541 0.93873997 0.93106488 0.93479681 0.92282637\n",
      " 0.90796904 0.90170221 0.89966025 0.88874609 0.88346505 0.88881657\n",
      " 0.90325132 0.89022482 0.88064853 0.89099938 0.88247926 0.87776154\n",
      " 0.87008646 0.83797775 0.80291158 0.79587019 0.79502526 0.80720683\n",
      " 0.82143046 0.82481029 0.81002345 0.8231908  0.82051504 0.82826061\n",
      " 0.84487828 0.86311545 0.81171331 0.818121   0.80805187 0.80002469\n",
      " 0.82537361 0.81248787 0.80227788 0.79389861 0.79960212 0.79375786\n",
      " 0.79910928 0.79115248 0.79974297 0.78643476 0.83755518 0.84818774\n",
      " 0.82100799 0.79770102 0.78798387 0.7812241  0.76685972 0.77277445\n",
      " 0.78023831 0.79516612 0.80129209 0.75034106 0.75095069 0.74727505\n",
      " 0.74067312 0.73254353 0.72383177 0.71505284]\n",
      "7 day out [[0.7064451]]\n",
      "8 day input [0.99894384 1.         0.9961977  0.98436812 0.99176159 0.97690426\n",
      " 0.97584799 0.96824339 0.96437061 0.96507468 0.96810253 0.96070906\n",
      " 0.91219391 0.90240639 0.88592957 0.88078929 0.91163059 0.90867322\n",
      " 0.9160667  0.91184182 0.91416549 0.89804077 0.89135136 0.93324769\n",
      " 0.9538789  0.97028534 0.97936868 0.97458059 0.97225692 0.9599345\n",
      " 0.95507593 0.92909319 0.90346256 0.92078441 0.91367265 0.92655829\n",
      " 0.93796541 0.93873997 0.93106488 0.93479681 0.92282637 0.90796904\n",
      " 0.90170221 0.89966025 0.88874609 0.88346505 0.88881657 0.90325132\n",
      " 0.89022482 0.88064853 0.89099938 0.88247926 0.87776154 0.87008646\n",
      " 0.83797775 0.80291158 0.79587019 0.79502526 0.80720683 0.82143046\n",
      " 0.82481029 0.81002345 0.8231908  0.82051504 0.82826061 0.84487828\n",
      " 0.86311545 0.81171331 0.818121   0.80805187 0.80002469 0.82537361\n",
      " 0.81248787 0.80227788 0.79389861 0.79960212 0.79375786 0.79910928\n",
      " 0.79115248 0.79974297 0.78643476 0.83755518 0.84818774 0.82100799\n",
      " 0.79770102 0.78798387 0.7812241  0.76685972 0.77277445 0.78023831\n",
      " 0.79516612 0.80129209 0.75034106 0.75095069 0.74727505 0.74067312\n",
      " 0.73254353 0.72383177 0.71505284 0.7064451 ]\n",
      "8 day out [[0.69810647]]\n",
      "9 day input [1.         0.9961977  0.98436812 0.99176159 0.97690426 0.97584799\n",
      " 0.96824339 0.96437061 0.96507468 0.96810253 0.96070906 0.91219391\n",
      " 0.90240639 0.88592957 0.88078929 0.91163059 0.90867322 0.9160667\n",
      " 0.91184182 0.91416549 0.89804077 0.89135136 0.93324769 0.9538789\n",
      " 0.97028534 0.97936868 0.97458059 0.97225692 0.9599345  0.95507593\n",
      " 0.92909319 0.90346256 0.92078441 0.91367265 0.92655829 0.93796541\n",
      " 0.93873997 0.93106488 0.93479681 0.92282637 0.90796904 0.90170221\n",
      " 0.89966025 0.88874609 0.88346505 0.88881657 0.90325132 0.89022482\n",
      " 0.88064853 0.89099938 0.88247926 0.87776154 0.87008646 0.83797775\n",
      " 0.80291158 0.79587019 0.79502526 0.80720683 0.82143046 0.82481029\n",
      " 0.81002345 0.8231908  0.82051504 0.82826061 0.84487828 0.86311545\n",
      " 0.81171331 0.818121   0.80805187 0.80002469 0.82537361 0.81248787\n",
      " 0.80227788 0.79389861 0.79960212 0.79375786 0.79910928 0.79115248\n",
      " 0.79974297 0.78643476 0.83755518 0.84818774 0.82100799 0.79770102\n",
      " 0.78798387 0.7812241  0.76685972 0.77277445 0.78023831 0.79516612\n",
      " 0.80129209 0.75034106 0.75095069 0.74727505 0.74067312 0.73254353\n",
      " 0.72383177 0.71505284 0.7064451  0.69810647]\n",
      "9 day out [[0.6900735]]\n",
      "10 day input [0.9961977  0.98436812 0.99176159 0.97690426 0.97584799 0.96824339\n",
      " 0.96437061 0.96507468 0.96810253 0.96070906 0.91219391 0.90240639\n",
      " 0.88592957 0.88078929 0.91163059 0.90867322 0.9160667  0.91184182\n",
      " 0.91416549 0.89804077 0.89135136 0.93324769 0.9538789  0.97028534\n",
      " 0.97936868 0.97458059 0.97225692 0.9599345  0.95507593 0.92909319\n",
      " 0.90346256 0.92078441 0.91367265 0.92655829 0.93796541 0.93873997\n",
      " 0.93106488 0.93479681 0.92282637 0.90796904 0.90170221 0.89966025\n",
      " 0.88874609 0.88346505 0.88881657 0.90325132 0.89022482 0.88064853\n",
      " 0.89099938 0.88247926 0.87776154 0.87008646 0.83797775 0.80291158\n",
      " 0.79587019 0.79502526 0.80720683 0.82143046 0.82481029 0.81002345\n",
      " 0.8231908  0.82051504 0.82826061 0.84487828 0.86311545 0.81171331\n",
      " 0.818121   0.80805187 0.80002469 0.82537361 0.81248787 0.80227788\n",
      " 0.79389861 0.79960212 0.79375786 0.79910928 0.79115248 0.79974297\n",
      " 0.78643476 0.83755518 0.84818774 0.82100799 0.79770102 0.78798387\n",
      " 0.7812241  0.76685972 0.77277445 0.78023831 0.79516612 0.80129209\n",
      " 0.75034106 0.75095069 0.74727505 0.74067312 0.73254353 0.72383177\n",
      " 0.71505284 0.7064451  0.69810647 0.69007349]\n",
      "10 day out [[0.6823602]]\n",
      "11 day input [0.98436812 0.99176159 0.97690426 0.97584799 0.96824339 0.96437061\n",
      " 0.96507468 0.96810253 0.96070906 0.91219391 0.90240639 0.88592957\n",
      " 0.88078929 0.91163059 0.90867322 0.9160667  0.91184182 0.91416549\n",
      " 0.89804077 0.89135136 0.93324769 0.9538789  0.97028534 0.97936868\n",
      " 0.97458059 0.97225692 0.9599345  0.95507593 0.92909319 0.90346256\n",
      " 0.92078441 0.91367265 0.92655829 0.93796541 0.93873997 0.93106488\n",
      " 0.93479681 0.92282637 0.90796904 0.90170221 0.89966025 0.88874609\n",
      " 0.88346505 0.88881657 0.90325132 0.89022482 0.88064853 0.89099938\n",
      " 0.88247926 0.87776154 0.87008646 0.83797775 0.80291158 0.79587019\n",
      " 0.79502526 0.80720683 0.82143046 0.82481029 0.81002345 0.8231908\n",
      " 0.82051504 0.82826061 0.84487828 0.86311545 0.81171331 0.818121\n",
      " 0.80805187 0.80002469 0.82537361 0.81248787 0.80227788 0.79389861\n",
      " 0.79960212 0.79375786 0.79910928 0.79115248 0.79974297 0.78643476\n",
      " 0.83755518 0.84818774 0.82100799 0.79770102 0.78798387 0.7812241\n",
      " 0.76685972 0.77277445 0.78023831 0.79516612 0.80129209 0.75034106\n",
      " 0.75095069 0.74727505 0.74067312 0.73254353 0.72383177 0.71505284\n",
      " 0.7064451  0.69810647 0.69007349 0.68236017]\n",
      "11 day out [[0.6749711]]\n",
      "12 day input [0.99176159 0.97690426 0.97584799 0.96824339 0.96437061 0.96507468\n",
      " 0.96810253 0.96070906 0.91219391 0.90240639 0.88592957 0.88078929\n",
      " 0.91163059 0.90867322 0.9160667  0.91184182 0.91416549 0.89804077\n",
      " 0.89135136 0.93324769 0.9538789  0.97028534 0.97936868 0.97458059\n",
      " 0.97225692 0.9599345  0.95507593 0.92909319 0.90346256 0.92078441\n",
      " 0.91367265 0.92655829 0.93796541 0.93873997 0.93106488 0.93479681\n",
      " 0.92282637 0.90796904 0.90170221 0.89966025 0.88874609 0.88346505\n",
      " 0.88881657 0.90325132 0.89022482 0.88064853 0.89099938 0.88247926\n",
      " 0.87776154 0.87008646 0.83797775 0.80291158 0.79587019 0.79502526\n",
      " 0.80720683 0.82143046 0.82481029 0.81002345 0.8231908  0.82051504\n",
      " 0.82826061 0.84487828 0.86311545 0.81171331 0.818121   0.80805187\n",
      " 0.80002469 0.82537361 0.81248787 0.80227788 0.79389861 0.79960212\n",
      " 0.79375786 0.79910928 0.79115248 0.79974297 0.78643476 0.83755518\n",
      " 0.84818774 0.82100799 0.79770102 0.78798387 0.7812241  0.76685972\n",
      " 0.77277445 0.78023831 0.79516612 0.80129209 0.75034106 0.75095069\n",
      " 0.74727505 0.74067312 0.73254353 0.72383177 0.71505284 0.7064451\n",
      " 0.69810647 0.69007349 0.68236017 0.6749711 ]\n",
      "12 day out [[0.667905]]\n",
      "13 day input [0.97690426 0.97584799 0.96824339 0.96437061 0.96507468 0.96810253\n",
      " 0.96070906 0.91219391 0.90240639 0.88592957 0.88078929 0.91163059\n",
      " 0.90867322 0.9160667  0.91184182 0.91416549 0.89804077 0.89135136\n",
      " 0.93324769 0.9538789  0.97028534 0.97936868 0.97458059 0.97225692\n",
      " 0.9599345  0.95507593 0.92909319 0.90346256 0.92078441 0.91367265\n",
      " 0.92655829 0.93796541 0.93873997 0.93106488 0.93479681 0.92282637\n",
      " 0.90796904 0.90170221 0.89966025 0.88874609 0.88346505 0.88881657\n",
      " 0.90325132 0.89022482 0.88064853 0.89099938 0.88247926 0.87776154\n",
      " 0.87008646 0.83797775 0.80291158 0.79587019 0.79502526 0.80720683\n",
      " 0.82143046 0.82481029 0.81002345 0.8231908  0.82051504 0.82826061\n",
      " 0.84487828 0.86311545 0.81171331 0.818121   0.80805187 0.80002469\n",
      " 0.82537361 0.81248787 0.80227788 0.79389861 0.79960212 0.79375786\n",
      " 0.79910928 0.79115248 0.79974297 0.78643476 0.83755518 0.84818774\n",
      " 0.82100799 0.79770102 0.78798387 0.7812241  0.76685972 0.77277445\n",
      " 0.78023831 0.79516612 0.80129209 0.75034106 0.75095069 0.74727505\n",
      " 0.74067312 0.73254353 0.72383177 0.71505284 0.7064451  0.69810647\n",
      " 0.69007349 0.68236017 0.6749711  0.66790497]\n",
      "13 day out [[0.66115457]]\n",
      "14 day input [0.97584799 0.96824339 0.96437061 0.96507468 0.96810253 0.96070906\n",
      " 0.91219391 0.90240639 0.88592957 0.88078929 0.91163059 0.90867322\n",
      " 0.9160667  0.91184182 0.91416549 0.89804077 0.89135136 0.93324769\n",
      " 0.9538789  0.97028534 0.97936868 0.97458059 0.97225692 0.9599345\n",
      " 0.95507593 0.92909319 0.90346256 0.92078441 0.91367265 0.92655829\n",
      " 0.93796541 0.93873997 0.93106488 0.93479681 0.92282637 0.90796904\n",
      " 0.90170221 0.89966025 0.88874609 0.88346505 0.88881657 0.90325132\n",
      " 0.89022482 0.88064853 0.89099938 0.88247926 0.87776154 0.87008646\n",
      " 0.83797775 0.80291158 0.79587019 0.79502526 0.80720683 0.82143046\n",
      " 0.82481029 0.81002345 0.8231908  0.82051504 0.82826061 0.84487828\n",
      " 0.86311545 0.81171331 0.818121   0.80805187 0.80002469 0.82537361\n",
      " 0.81248787 0.80227788 0.79389861 0.79960212 0.79375786 0.79910928\n",
      " 0.79115248 0.79974297 0.78643476 0.83755518 0.84818774 0.82100799\n",
      " 0.79770102 0.78798387 0.7812241  0.76685972 0.77277445 0.78023831\n",
      " 0.79516612 0.80129209 0.75034106 0.75095069 0.74727505 0.74067312\n",
      " 0.73254353 0.72383177 0.71505284 0.7064451  0.69810647 0.69007349\n",
      " 0.68236017 0.6749711  0.66790497 0.66115457]\n",
      "14 day out [[0.6547067]]\n",
      "15 day input [0.96824339 0.96437061 0.96507468 0.96810253 0.96070906 0.91219391\n",
      " 0.90240639 0.88592957 0.88078929 0.91163059 0.90867322 0.9160667\n",
      " 0.91184182 0.91416549 0.89804077 0.89135136 0.93324769 0.9538789\n",
      " 0.97028534 0.97936868 0.97458059 0.97225692 0.9599345  0.95507593\n",
      " 0.92909319 0.90346256 0.92078441 0.91367265 0.92655829 0.93796541\n",
      " 0.93873997 0.93106488 0.93479681 0.92282637 0.90796904 0.90170221\n",
      " 0.89966025 0.88874609 0.88346505 0.88881657 0.90325132 0.89022482\n",
      " 0.88064853 0.89099938 0.88247926 0.87776154 0.87008646 0.83797775\n",
      " 0.80291158 0.79587019 0.79502526 0.80720683 0.82143046 0.82481029\n",
      " 0.81002345 0.8231908  0.82051504 0.82826061 0.84487828 0.86311545\n",
      " 0.81171331 0.818121   0.80805187 0.80002469 0.82537361 0.81248787\n",
      " 0.80227788 0.79389861 0.79960212 0.79375786 0.79910928 0.79115248\n",
      " 0.79974297 0.78643476 0.83755518 0.84818774 0.82100799 0.79770102\n",
      " 0.78798387 0.7812241  0.76685972 0.77277445 0.78023831 0.79516612\n",
      " 0.80129209 0.75034106 0.75095069 0.74727505 0.74067312 0.73254353\n",
      " 0.72383177 0.71505284 0.7064451  0.69810647 0.69007349 0.68236017\n",
      " 0.6749711  0.66790497 0.66115457 0.65470672]\n",
      "15 day out [[0.6485435]]\n",
      "16 day input [0.96437061 0.96507468 0.96810253 0.96070906 0.91219391 0.90240639\n",
      " 0.88592957 0.88078929 0.91163059 0.90867322 0.9160667  0.91184182\n",
      " 0.91416549 0.89804077 0.89135136 0.93324769 0.9538789  0.97028534\n",
      " 0.97936868 0.97458059 0.97225692 0.9599345  0.95507593 0.92909319\n",
      " 0.90346256 0.92078441 0.91367265 0.92655829 0.93796541 0.93873997\n",
      " 0.93106488 0.93479681 0.92282637 0.90796904 0.90170221 0.89966025\n",
      " 0.88874609 0.88346505 0.88881657 0.90325132 0.89022482 0.88064853\n",
      " 0.89099938 0.88247926 0.87776154 0.87008646 0.83797775 0.80291158\n",
      " 0.79587019 0.79502526 0.80720683 0.82143046 0.82481029 0.81002345\n",
      " 0.8231908  0.82051504 0.82826061 0.84487828 0.86311545 0.81171331\n",
      " 0.818121   0.80805187 0.80002469 0.82537361 0.81248787 0.80227788\n",
      " 0.79389861 0.79960212 0.79375786 0.79910928 0.79115248 0.79974297\n",
      " 0.78643476 0.83755518 0.84818774 0.82100799 0.79770102 0.78798387\n",
      " 0.7812241  0.76685972 0.77277445 0.78023831 0.79516612 0.80129209\n",
      " 0.75034106 0.75095069 0.74727505 0.74067312 0.73254353 0.72383177\n",
      " 0.71505284 0.7064451  0.69810647 0.69007349 0.68236017 0.6749711\n",
      " 0.66790497 0.66115457 0.65470672 0.64854348]\n",
      "16 day out [[0.6426434]]\n",
      "17 day input [0.96507468 0.96810253 0.96070906 0.91219391 0.90240639 0.88592957\n",
      " 0.88078929 0.91163059 0.90867322 0.9160667  0.91184182 0.91416549\n",
      " 0.89804077 0.89135136 0.93324769 0.9538789  0.97028534 0.97936868\n",
      " 0.97458059 0.97225692 0.9599345  0.95507593 0.92909319 0.90346256\n",
      " 0.92078441 0.91367265 0.92655829 0.93796541 0.93873997 0.93106488\n",
      " 0.93479681 0.92282637 0.90796904 0.90170221 0.89966025 0.88874609\n",
      " 0.88346505 0.88881657 0.90325132 0.89022482 0.88064853 0.89099938\n",
      " 0.88247926 0.87776154 0.87008646 0.83797775 0.80291158 0.79587019\n",
      " 0.79502526 0.80720683 0.82143046 0.82481029 0.81002345 0.8231908\n",
      " 0.82051504 0.82826061 0.84487828 0.86311545 0.81171331 0.818121\n",
      " 0.80805187 0.80002469 0.82537361 0.81248787 0.80227788 0.79389861\n",
      " 0.79960212 0.79375786 0.79910928 0.79115248 0.79974297 0.78643476\n",
      " 0.83755518 0.84818774 0.82100799 0.79770102 0.78798387 0.7812241\n",
      " 0.76685972 0.77277445 0.78023831 0.79516612 0.80129209 0.75034106\n",
      " 0.75095069 0.74727505 0.74067312 0.73254353 0.72383177 0.71505284\n",
      " 0.7064451  0.69810647 0.69007349 0.68236017 0.6749711  0.66790497\n",
      " 0.66115457 0.65470672 0.64854348 0.64264339]\n",
      "17 day out [[0.6369832]]\n",
      "18 day input [0.96810253 0.96070906 0.91219391 0.90240639 0.88592957 0.88078929\n",
      " 0.91163059 0.90867322 0.9160667  0.91184182 0.91416549 0.89804077\n",
      " 0.89135136 0.93324769 0.9538789  0.97028534 0.97936868 0.97458059\n",
      " 0.97225692 0.9599345  0.95507593 0.92909319 0.90346256 0.92078441\n",
      " 0.91367265 0.92655829 0.93796541 0.93873997 0.93106488 0.93479681\n",
      " 0.92282637 0.90796904 0.90170221 0.89966025 0.88874609 0.88346505\n",
      " 0.88881657 0.90325132 0.89022482 0.88064853 0.89099938 0.88247926\n",
      " 0.87776154 0.87008646 0.83797775 0.80291158 0.79587019 0.79502526\n",
      " 0.80720683 0.82143046 0.82481029 0.81002345 0.8231908  0.82051504\n",
      " 0.82826061 0.84487828 0.86311545 0.81171331 0.818121   0.80805187\n",
      " 0.80002469 0.82537361 0.81248787 0.80227788 0.79389861 0.79960212\n",
      " 0.79375786 0.79910928 0.79115248 0.79974297 0.78643476 0.83755518\n",
      " 0.84818774 0.82100799 0.79770102 0.78798387 0.7812241  0.76685972\n",
      " 0.77277445 0.78023831 0.79516612 0.80129209 0.75034106 0.75095069\n",
      " 0.74727505 0.74067312 0.73254353 0.72383177 0.71505284 0.7064451\n",
      " 0.69810647 0.69007349 0.68236017 0.6749711  0.66790497 0.66115457\n",
      " 0.65470672 0.64854348 0.64264339 0.63698322]\n",
      "18 day out [[0.631539]]\n",
      "19 day input [0.96070906 0.91219391 0.90240639 0.88592957 0.88078929 0.91163059\n",
      " 0.90867322 0.9160667  0.91184182 0.91416549 0.89804077 0.89135136\n",
      " 0.93324769 0.9538789  0.97028534 0.97936868 0.97458059 0.97225692\n",
      " 0.9599345  0.95507593 0.92909319 0.90346256 0.92078441 0.91367265\n",
      " 0.92655829 0.93796541 0.93873997 0.93106488 0.93479681 0.92282637\n",
      " 0.90796904 0.90170221 0.89966025 0.88874609 0.88346505 0.88881657\n",
      " 0.90325132 0.89022482 0.88064853 0.89099938 0.88247926 0.87776154\n",
      " 0.87008646 0.83797775 0.80291158 0.79587019 0.79502526 0.80720683\n",
      " 0.82143046 0.82481029 0.81002345 0.8231908  0.82051504 0.82826061\n",
      " 0.84487828 0.86311545 0.81171331 0.818121   0.80805187 0.80002469\n",
      " 0.82537361 0.81248787 0.80227788 0.79389861 0.79960212 0.79375786\n",
      " 0.79910928 0.79115248 0.79974297 0.78643476 0.83755518 0.84818774\n",
      " 0.82100799 0.79770102 0.78798387 0.7812241  0.76685972 0.77277445\n",
      " 0.78023831 0.79516612 0.80129209 0.75034106 0.75095069 0.74727505\n",
      " 0.74067312 0.73254353 0.72383177 0.71505284 0.7064451  0.69810647\n",
      " 0.69007349 0.68236017 0.6749711  0.66790497 0.66115457 0.65470672\n",
      " 0.64854348 0.64264339 0.63698322 0.63153899]\n",
      "19 day out [[0.6262878]]\n",
      "20 day input [0.91219391 0.90240639 0.88592957 0.88078929 0.91163059 0.90867322\n",
      " 0.9160667  0.91184182 0.91416549 0.89804077 0.89135136 0.93324769\n",
      " 0.9538789  0.97028534 0.97936868 0.97458059 0.97225692 0.9599345\n",
      " 0.95507593 0.92909319 0.90346256 0.92078441 0.91367265 0.92655829\n",
      " 0.93796541 0.93873997 0.93106488 0.93479681 0.92282637 0.90796904\n",
      " 0.90170221 0.89966025 0.88874609 0.88346505 0.88881657 0.90325132\n",
      " 0.89022482 0.88064853 0.89099938 0.88247926 0.87776154 0.87008646\n",
      " 0.83797775 0.80291158 0.79587019 0.79502526 0.80720683 0.82143046\n",
      " 0.82481029 0.81002345 0.8231908  0.82051504 0.82826061 0.84487828\n",
      " 0.86311545 0.81171331 0.818121   0.80805187 0.80002469 0.82537361\n",
      " 0.81248787 0.80227788 0.79389861 0.79960212 0.79375786 0.79910928\n",
      " 0.79115248 0.79974297 0.78643476 0.83755518 0.84818774 0.82100799\n",
      " 0.79770102 0.78798387 0.7812241  0.76685972 0.77277445 0.78023831\n",
      " 0.79516612 0.80129209 0.75034106 0.75095069 0.74727505 0.74067312\n",
      " 0.73254353 0.72383177 0.71505284 0.7064451  0.69810647 0.69007349\n",
      " 0.68236017 0.6749711  0.66790497 0.66115457 0.65470672 0.64854348\n",
      " 0.64264339 0.63698322 0.63153899 0.62628782]\n",
      "20 day out [[0.62120813]]\n",
      "21 day input [0.90240639 0.88592957 0.88078929 0.91163059 0.90867322 0.9160667\n",
      " 0.91184182 0.91416549 0.89804077 0.89135136 0.93324769 0.9538789\n",
      " 0.97028534 0.97936868 0.97458059 0.97225692 0.9599345  0.95507593\n",
      " 0.92909319 0.90346256 0.92078441 0.91367265 0.92655829 0.93796541\n",
      " 0.93873997 0.93106488 0.93479681 0.92282637 0.90796904 0.90170221\n",
      " 0.89966025 0.88874609 0.88346505 0.88881657 0.90325132 0.89022482\n",
      " 0.88064853 0.89099938 0.88247926 0.87776154 0.87008646 0.83797775\n",
      " 0.80291158 0.79587019 0.79502526 0.80720683 0.82143046 0.82481029\n",
      " 0.81002345 0.8231908  0.82051504 0.82826061 0.84487828 0.86311545\n",
      " 0.81171331 0.818121   0.80805187 0.80002469 0.82537361 0.81248787\n",
      " 0.80227788 0.79389861 0.79960212 0.79375786 0.79910928 0.79115248\n",
      " 0.79974297 0.78643476 0.83755518 0.84818774 0.82100799 0.79770102\n",
      " 0.78798387 0.7812241  0.76685972 0.77277445 0.78023831 0.79516612\n",
      " 0.80129209 0.75034106 0.75095069 0.74727505 0.74067312 0.73254353\n",
      " 0.72383177 0.71505284 0.7064451  0.69810647 0.69007349 0.68236017\n",
      " 0.6749711  0.66790497 0.66115457 0.65470672 0.64854348 0.64264339\n",
      " 0.63698322 0.63153899 0.62628782 0.62120813]\n",
      "21 day out [[0.61628056]]\n",
      "22 day input [0.88592957 0.88078929 0.91163059 0.90867322 0.9160667  0.91184182\n",
      " 0.91416549 0.89804077 0.89135136 0.93324769 0.9538789  0.97028534\n",
      " 0.97936868 0.97458059 0.97225692 0.9599345  0.95507593 0.92909319\n",
      " 0.90346256 0.92078441 0.91367265 0.92655829 0.93796541 0.93873997\n",
      " 0.93106488 0.93479681 0.92282637 0.90796904 0.90170221 0.89966025\n",
      " 0.88874609 0.88346505 0.88881657 0.90325132 0.89022482 0.88064853\n",
      " 0.89099938 0.88247926 0.87776154 0.87008646 0.83797775 0.80291158\n",
      " 0.79587019 0.79502526 0.80720683 0.82143046 0.82481029 0.81002345\n",
      " 0.8231908  0.82051504 0.82826061 0.84487828 0.86311545 0.81171331\n",
      " 0.818121   0.80805187 0.80002469 0.82537361 0.81248787 0.80227788\n",
      " 0.79389861 0.79960212 0.79375786 0.79910928 0.79115248 0.79974297\n",
      " 0.78643476 0.83755518 0.84818774 0.82100799 0.79770102 0.78798387\n",
      " 0.7812241  0.76685972 0.77277445 0.78023831 0.79516612 0.80129209\n",
      " 0.75034106 0.75095069 0.74727505 0.74067312 0.73254353 0.72383177\n",
      " 0.71505284 0.7064451  0.69810647 0.69007349 0.68236017 0.6749711\n",
      " 0.66790497 0.66115457 0.65470672 0.64854348 0.64264339 0.63698322\n",
      " 0.63153899 0.62628782 0.62120813 0.61628056]\n",
      "22 day out [[0.6114884]]\n",
      "23 day input [0.88078929 0.91163059 0.90867322 0.9160667  0.91184182 0.91416549\n",
      " 0.89804077 0.89135136 0.93324769 0.9538789  0.97028534 0.97936868\n",
      " 0.97458059 0.97225692 0.9599345  0.95507593 0.92909319 0.90346256\n",
      " 0.92078441 0.91367265 0.92655829 0.93796541 0.93873997 0.93106488\n",
      " 0.93479681 0.92282637 0.90796904 0.90170221 0.89966025 0.88874609\n",
      " 0.88346505 0.88881657 0.90325132 0.89022482 0.88064853 0.89099938\n",
      " 0.88247926 0.87776154 0.87008646 0.83797775 0.80291158 0.79587019\n",
      " 0.79502526 0.80720683 0.82143046 0.82481029 0.81002345 0.8231908\n",
      " 0.82051504 0.82826061 0.84487828 0.86311545 0.81171331 0.818121\n",
      " 0.80805187 0.80002469 0.82537361 0.81248787 0.80227788 0.79389861\n",
      " 0.79960212 0.79375786 0.79910928 0.79115248 0.79974297 0.78643476\n",
      " 0.83755518 0.84818774 0.82100799 0.79770102 0.78798387 0.7812241\n",
      " 0.76685972 0.77277445 0.78023831 0.79516612 0.80129209 0.75034106\n",
      " 0.75095069 0.74727505 0.74067312 0.73254353 0.72383177 0.71505284\n",
      " 0.7064451  0.69810647 0.69007349 0.68236017 0.6749711  0.66790497\n",
      " 0.66115457 0.65470672 0.64854348 0.64264339 0.63698322 0.63153899\n",
      " 0.62628782 0.62120813 0.61628056 0.6114884 ]\n",
      "23 day out [[0.60681725]]\n",
      "24 day input [0.91163059 0.90867322 0.9160667  0.91184182 0.91416549 0.89804077\n",
      " 0.89135136 0.93324769 0.9538789  0.97028534 0.97936868 0.97458059\n",
      " 0.97225692 0.9599345  0.95507593 0.92909319 0.90346256 0.92078441\n",
      " 0.91367265 0.92655829 0.93796541 0.93873997 0.93106488 0.93479681\n",
      " 0.92282637 0.90796904 0.90170221 0.89966025 0.88874609 0.88346505\n",
      " 0.88881657 0.90325132 0.89022482 0.88064853 0.89099938 0.88247926\n",
      " 0.87776154 0.87008646 0.83797775 0.80291158 0.79587019 0.79502526\n",
      " 0.80720683 0.82143046 0.82481029 0.81002345 0.8231908  0.82051504\n",
      " 0.82826061 0.84487828 0.86311545 0.81171331 0.818121   0.80805187\n",
      " 0.80002469 0.82537361 0.81248787 0.80227788 0.79389861 0.79960212\n",
      " 0.79375786 0.79910928 0.79115248 0.79974297 0.78643476 0.83755518\n",
      " 0.84818774 0.82100799 0.79770102 0.78798387 0.7812241  0.76685972\n",
      " 0.77277445 0.78023831 0.79516612 0.80129209 0.75034106 0.75095069\n",
      " 0.74727505 0.74067312 0.73254353 0.72383177 0.71505284 0.7064451\n",
      " 0.69810647 0.69007349 0.68236017 0.6749711  0.66790497 0.66115457\n",
      " 0.65470672 0.64854348 0.64264339 0.63698322 0.63153899 0.62628782\n",
      " 0.62120813 0.61628056 0.6114884  0.60681725]\n",
      "24 day out [[0.6022557]]\n",
      "25 day input [0.90867322 0.9160667  0.91184182 0.91416549 0.89804077 0.89135136\n",
      " 0.93324769 0.9538789  0.97028534 0.97936868 0.97458059 0.97225692\n",
      " 0.9599345  0.95507593 0.92909319 0.90346256 0.92078441 0.91367265\n",
      " 0.92655829 0.93796541 0.93873997 0.93106488 0.93479681 0.92282637\n",
      " 0.90796904 0.90170221 0.89966025 0.88874609 0.88346505 0.88881657\n",
      " 0.90325132 0.89022482 0.88064853 0.89099938 0.88247926 0.87776154\n",
      " 0.87008646 0.83797775 0.80291158 0.79587019 0.79502526 0.80720683\n",
      " 0.82143046 0.82481029 0.81002345 0.8231908  0.82051504 0.82826061\n",
      " 0.84487828 0.86311545 0.81171331 0.818121   0.80805187 0.80002469\n",
      " 0.82537361 0.81248787 0.80227788 0.79389861 0.79960212 0.79375786\n",
      " 0.79910928 0.79115248 0.79974297 0.78643476 0.83755518 0.84818774\n",
      " 0.82100799 0.79770102 0.78798387 0.7812241  0.76685972 0.77277445\n",
      " 0.78023831 0.79516612 0.80129209 0.75034106 0.75095069 0.74727505\n",
      " 0.74067312 0.73254353 0.72383177 0.71505284 0.7064451  0.69810647\n",
      " 0.69007349 0.68236017 0.6749711  0.66790497 0.66115457 0.65470672\n",
      " 0.64854348 0.64264339 0.63698322 0.63153899 0.62628782 0.62120813\n",
      " 0.61628056 0.6114884  0.60681725 0.6022557 ]\n",
      "25 day out [[0.59779435]]\n",
      "26 day input [0.9160667  0.91184182 0.91416549 0.89804077 0.89135136 0.93324769\n",
      " 0.9538789  0.97028534 0.97936868 0.97458059 0.97225692 0.9599345\n",
      " 0.95507593 0.92909319 0.90346256 0.92078441 0.91367265 0.92655829\n",
      " 0.93796541 0.93873997 0.93106488 0.93479681 0.92282637 0.90796904\n",
      " 0.90170221 0.89966025 0.88874609 0.88346505 0.88881657 0.90325132\n",
      " 0.89022482 0.88064853 0.89099938 0.88247926 0.87776154 0.87008646\n",
      " 0.83797775 0.80291158 0.79587019 0.79502526 0.80720683 0.82143046\n",
      " 0.82481029 0.81002345 0.8231908  0.82051504 0.82826061 0.84487828\n",
      " 0.86311545 0.81171331 0.818121   0.80805187 0.80002469 0.82537361\n",
      " 0.81248787 0.80227788 0.79389861 0.79960212 0.79375786 0.79910928\n",
      " 0.79115248 0.79974297 0.78643476 0.83755518 0.84818774 0.82100799\n",
      " 0.79770102 0.78798387 0.7812241  0.76685972 0.77277445 0.78023831\n",
      " 0.79516612 0.80129209 0.75034106 0.75095069 0.74727505 0.74067312\n",
      " 0.73254353 0.72383177 0.71505284 0.7064451  0.69810647 0.69007349\n",
      " 0.68236017 0.6749711  0.66790497 0.66115457 0.65470672 0.64854348\n",
      " 0.64264339 0.63698322 0.63153899 0.62628782 0.62120813 0.61628056\n",
      " 0.6114884  0.60681725 0.6022557  0.59779435]\n",
      "26 day out [[0.59342635]]\n",
      "27 day input [0.91184182 0.91416549 0.89804077 0.89135136 0.93324769 0.9538789\n",
      " 0.97028534 0.97936868 0.97458059 0.97225692 0.9599345  0.95507593\n",
      " 0.92909319 0.90346256 0.92078441 0.91367265 0.92655829 0.93796541\n",
      " 0.93873997 0.93106488 0.93479681 0.92282637 0.90796904 0.90170221\n",
      " 0.89966025 0.88874609 0.88346505 0.88881657 0.90325132 0.89022482\n",
      " 0.88064853 0.89099938 0.88247926 0.87776154 0.87008646 0.83797775\n",
      " 0.80291158 0.79587019 0.79502526 0.80720683 0.82143046 0.82481029\n",
      " 0.81002345 0.8231908  0.82051504 0.82826061 0.84487828 0.86311545\n",
      " 0.81171331 0.818121   0.80805187 0.80002469 0.82537361 0.81248787\n",
      " 0.80227788 0.79389861 0.79960212 0.79375786 0.79910928 0.79115248\n",
      " 0.79974297 0.78643476 0.83755518 0.84818774 0.82100799 0.79770102\n",
      " 0.78798387 0.7812241  0.76685972 0.77277445 0.78023831 0.79516612\n",
      " 0.80129209 0.75034106 0.75095069 0.74727505 0.74067312 0.73254353\n",
      " 0.72383177 0.71505284 0.7064451  0.69810647 0.69007349 0.68236017\n",
      " 0.6749711  0.66790497 0.66115457 0.65470672 0.64854348 0.64264339\n",
      " 0.63698322 0.63153899 0.62628782 0.62120813 0.61628056 0.6114884\n",
      " 0.60681725 0.6022557  0.59779435 0.59342635]\n",
      "27 day out [[0.5891463]]\n",
      "28 day input [0.91416549 0.89804077 0.89135136 0.93324769 0.9538789  0.97028534\n",
      " 0.97936868 0.97458059 0.97225692 0.9599345  0.95507593 0.92909319\n",
      " 0.90346256 0.92078441 0.91367265 0.92655829 0.93796541 0.93873997\n",
      " 0.93106488 0.93479681 0.92282637 0.90796904 0.90170221 0.89966025\n",
      " 0.88874609 0.88346505 0.88881657 0.90325132 0.89022482 0.88064853\n",
      " 0.89099938 0.88247926 0.87776154 0.87008646 0.83797775 0.80291158\n",
      " 0.79587019 0.79502526 0.80720683 0.82143046 0.82481029 0.81002345\n",
      " 0.8231908  0.82051504 0.82826061 0.84487828 0.86311545 0.81171331\n",
      " 0.818121   0.80805187 0.80002469 0.82537361 0.81248787 0.80227788\n",
      " 0.79389861 0.79960212 0.79375786 0.79910928 0.79115248 0.79974297\n",
      " 0.78643476 0.83755518 0.84818774 0.82100799 0.79770102 0.78798387\n",
      " 0.7812241  0.76685972 0.77277445 0.78023831 0.79516612 0.80129209\n",
      " 0.75034106 0.75095069 0.74727505 0.74067312 0.73254353 0.72383177\n",
      " 0.71505284 0.7064451  0.69810647 0.69007349 0.68236017 0.6749711\n",
      " 0.66790497 0.66115457 0.65470672 0.64854348 0.64264339 0.63698322\n",
      " 0.63153899 0.62628782 0.62120813 0.61628056 0.6114884  0.60681725\n",
      " 0.6022557  0.59779435 0.59342635 0.58914632]\n",
      "28 day out [[0.5849505]]\n",
      "29 day input [0.89804077 0.89135136 0.93324769 0.9538789  0.97028534 0.97936868\n",
      " 0.97458059 0.97225692 0.9599345  0.95507593 0.92909319 0.90346256\n",
      " 0.92078441 0.91367265 0.92655829 0.93796541 0.93873997 0.93106488\n",
      " 0.93479681 0.92282637 0.90796904 0.90170221 0.89966025 0.88874609\n",
      " 0.88346505 0.88881657 0.90325132 0.89022482 0.88064853 0.89099938\n",
      " 0.88247926 0.87776154 0.87008646 0.83797775 0.80291158 0.79587019\n",
      " 0.79502526 0.80720683 0.82143046 0.82481029 0.81002345 0.8231908\n",
      " 0.82051504 0.82826061 0.84487828 0.86311545 0.81171331 0.818121\n",
      " 0.80805187 0.80002469 0.82537361 0.81248787 0.80227788 0.79389861\n",
      " 0.79960212 0.79375786 0.79910928 0.79115248 0.79974297 0.78643476\n",
      " 0.83755518 0.84818774 0.82100799 0.79770102 0.78798387 0.7812241\n",
      " 0.76685972 0.77277445 0.78023831 0.79516612 0.80129209 0.75034106\n",
      " 0.75095069 0.74727505 0.74067312 0.73254353 0.72383177 0.71505284\n",
      " 0.7064451  0.69810647 0.69007349 0.68236017 0.6749711  0.66790497\n",
      " 0.66115457 0.65470672 0.64854348 0.64264339 0.63698322 0.63153899\n",
      " 0.62628782 0.62120813 0.61628056 0.6114884  0.60681725 0.6022557\n",
      " 0.59779435 0.59342635 0.58914632 0.58495051]\n",
      "29 day out [[0.58083665]]\n",
      "[[0.7503410577774048], [0.7509506940841675], [0.7472750544548035], [0.7406731247901917], [0.7325435280799866], [0.7238317728042603], [0.7150528430938721], [0.7064450979232788], [0.6981064677238464], [0.6900734901428223], [0.6823601722717285], [0.6749711036682129], [0.6679049730300903], [0.661154568195343], [0.6547067165374756], [0.6485434770584106], [0.642643392086029], [0.6369832158088684], [0.631538987159729], [0.6262878179550171], [0.621208131313324], [0.6162805557250977], [0.611488401889801], [0.6068172454833984], [0.6022557020187378], [0.5977943539619446], [0.5934263467788696], [0.5891463160514832], [0.5849505066871643], [0.5808366537094116]]\n"
     ]
    }
   ],
   "source": [
    "#demonstrate prediction for next 10 days\n",
    "from numpy import array\n",
    "\n",
    "lst_output = []\n",
    "n_steps = 100\n",
    "i = 0\n",
    "while(i<30):\n",
    "    if(len(temp_input)>100):\n",
    "        #print(temp_input)\n",
    "        x_input = np.array(temp_input[1:])\n",
    "        print(\"{} day input {}\".format(i,x_input))\n",
    "        x_input = x_input.reshape(1,-1)\n",
    "        x_input = x_input.reshape((1, n_steps, 1))\n",
    "        #print(x_input)\n",
    "        yhat = model.predict(x_input, verbose=0)\n",
    "        print(\"{} day out {}\".format(i,yhat))\n",
    "        temp_input.extend(yhat[0].tolist())\n",
    "        temp_input = temp_input[1:]\n",
    "        #print(temp_input)\n",
    "        lst_output.extend(yhat.tolist())\n",
    "        i = i+1\n",
    "    else:\n",
    "        x_input = x_input.reshape((1, n_steps, 1))\n",
    "        yhat = model.predict(x_input, verbose = 0)\n",
    "        print(yhat[0])\n",
    "        temp_input.extend(yhat[0].tolist())\n",
    "        print(len(temp_input))\n",
    "        lst_output.extend(yhat.tolist())\n",
    "        i = i+1\n",
    "        \n",
    "print(lst_output)"
   ]
  },
  {
   "cell_type": "code",
   "execution_count": 45,
   "id": "9f727cc1-9900-40f1-908e-15008256a3af",
   "metadata": {},
   "outputs": [],
   "source": [
    "day_new = np.arange(1,101)\n",
    "day_pred = np.arange(101,131)"
   ]
  },
  {
   "cell_type": "code",
   "execution_count": 46,
   "id": "2fd8f57c-2209-4b08-b8ec-6338a4c9e743",
   "metadata": {},
   "outputs": [],
   "source": [
    "import matplotlib.pyplot as plt"
   ]
  },
  {
   "cell_type": "code",
   "execution_count": 47,
   "id": "94038cb6-b933-4864-8517-e628bfea1641",
   "metadata": {},
   "outputs": [
    {
     "data": {
      "text/plain": [
       "1086"
      ]
     },
     "execution_count": 47,
     "metadata": {},
     "output_type": "execute_result"
    }
   ],
   "source": [
    "len(df1)"
   ]
  },
  {
   "cell_type": "code",
   "execution_count": 48,
   "id": "9f8ed872-4dad-4ae3-bf3e-2911036672f4",
   "metadata": {},
   "outputs": [
    {
     "data": {
      "text/plain": [
       "[<matplotlib.lines.Line2D at 0x1603d614610>]"
      ]
     },
     "execution_count": 48,
     "metadata": {},
     "output_type": "execute_result"
    },
    {
     "data": {
      "image/png": "[encoded data removed]",
      "text/plain": [
       "<Figure size 640x480 with 1 Axes>"
      ]
     },
     "metadata": {},
     "output_type": "display_data"
    }
   ],
   "source": [
    "plt.plot(day_new, scaler.inverse_transform(df1[986:]))\n",
    "plt.plot(day_pred, scaler.inverse_transform(lst_output))"
   ]
  },
  {
   "cell_type": "code",
   "execution_count": 49,
   "id": "5fa09cbd-c9ef-4b66-a546-66412e3c5ee1",
   "metadata": {},
   "outputs": [
    {
     "data": {
      "text/plain": [
       "[<matplotlib.lines.Line2D at 0x1603d661ad0>]"
      ]
     },
     "execution_count": 49,
     "metadata": {},
     "output_type": "execute_result"
    },
    {
     "data": {
      "image/png": "[encoded data removed]",
      "text/plain": [
       "<Figure size 640x480 with 1 Axes>"
      ]
     },
     "metadata": {},
     "output_type": "display_data"
    }
   ],
   "source": [
    "df3 = df1.tolist()\n",
    "df3.extend(lst_output)\n",
    "plt.plot(df3[900:])"
   ]
  },
  {
   "cell_type": "code",
   "execution_count": null,
   "id": "33af8f6f-ba41-4c5e-a28d-b3fc8631f313",
   "metadata": {},
   "outputs": [],
   "source": []
  }
 ],
 "metadata": {
  "kernelspec": {
   "display_name": "Python 3 (ipykernel)",
   "language": "python",
   "name": "python3"
  },
  "language_info": {
   "codemirror_mode": {
    "name": "ipython",
    "version": 3
   },
   "file_extension": ".py",
   "mimetype": "text/x-python",
   "name": "python",
   "nbconvert_exporter": "python",
   "pygments_lexer": "ipython3",
   "version": "3.11.7"
  }
 },
 "nbformat": 4,
 "nbformat_minor": 5
}
